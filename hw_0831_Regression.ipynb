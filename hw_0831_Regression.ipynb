{
 "cells": [
  {
   "cell_type": "markdown",
   "metadata": {},
   "source": [
    "# Machine Learning _ 2022.08.31.(수)\n",
    "과제 2번: Linear Regression  \n",
    "\n",
    "아래 데이터를 이용하여 각 항목별 연관 관계를 분석하고 선형 회\n",
    "귀 분석 기법을 통해 상관 관계를 그래프로 표시하시오.\n",
    "\n",
    "• index_price: 물가지수  \n",
    "• interest_rate: 이자율   \n",
    "• unemployment_rate: 실업률  "
   ]
  },
  {
   "cell_type": "code",
   "execution_count": 66,
   "metadata": {},
   "outputs": [
    {
     "name": "stdout",
     "output_type": "stream",
     "text": [
      "    year  month  interest_rate  unemployment_rate  index_price\n",
      "0   2017     12           2.75                5.3         1464\n",
      "1   2017     11           2.50                5.3         1394\n",
      "2   2017     10           2.50                5.3         1357\n",
      "3   2017      9           2.50                5.3         1293\n",
      "4   2017      8           2.50                5.4         1256\n",
      "5   2017      7           2.50                5.6         1254\n",
      "6   2017      6           2.50                5.5         1234\n",
      "7   2017      5           2.25                5.5         1195\n",
      "8   2017      4           2.25                5.5         1159\n",
      "9   2017      3           2.25                5.6         1167\n",
      "10  2017      2           2.00                5.7         1130\n",
      "11  2017      1           2.00                5.9         1075\n",
      "12  2016     12           2.00                6.0         1047\n",
      "13  2016     11           1.75                5.9          965\n",
      "14  2016     10           1.75                5.8          943\n",
      "15  2016      9           1.75                6.1          958\n",
      "16  2016      8           1.75                6.2          971\n",
      "17  2016      7           1.75                6.1          949\n",
      "18  2016      6           1.75                6.1          884\n",
      "19  2016      5           1.75                6.1          866\n",
      "20  2016      4           1.75                5.9          876\n",
      "21  2016      3           1.75                6.2          822\n",
      "22  2016      2           1.75                6.2          704\n",
      "23  2016      1           1.75                6.1          719\n"
     ]
    }
   ],
   "source": [
    "import pandas as pd\n",
    "import matplotlib.pyplot as plt\n",
    "data = {\n",
    "    'year': [2017,2017,2017,2017,2017,2017,2017,2017,2017,2017,2017,2017,\n",
    "            2016,2016,2016,2016,2016,2016,2016,2016,2016,2016,2016,2016],\n",
    "    'month': [12,11,10,9,8,7,6,5,4,3,2,1,12,11,10,9,8,7,6,5,4,3,2,1],\n",
    "    'interest_rate': [2.75,2.5,2.5,2.5,2.5,2.5,2.5,2.25,2.25,2.25,2,2,2,\n",
    "                        1.75,1.75,1.75,1.75,1.75,1.75,1.75,1.75,1.75,1.75,1.75],\n",
    "    'unemployment_rate': [5.3,5.3,5.3,5.3,5.4,5.6,5.5,5.5,5.5,5.6,5.7,5.9,6,5.9,\n",
    "                            5.8,6.1,6.2,6.1,6.1,6.1,5.9,6.2,6.2,6.1],\n",
    "    'index_price': [1464,1394,1357,1293,1256,1254,1234,1195,1159,1167,1130,1075,\n",
    "                    1047,965,943,958,971,949,884,866,876,822,704,719]}\n",
    "\n",
    "df = pd.DataFrame(data)\n",
    "print(df)"
   ]
  },
  {
   "cell_type": "code",
   "execution_count": 67,
   "metadata": {},
   "outputs": [
    {
     "name": "stdout",
     "output_type": "stream",
     "text": [
      "(24, 4)\n",
      "(24,)\n"
     ]
    }
   ],
   "source": [
    "# 배열 생성\n",
    "import numpy as np\n",
    "\n",
    "year = np.array(df['year'])\n",
    "month = np.array(df['month'])\n",
    "interest_rate= np.array(df['interest_rate'])\n",
    "unemployment_rate= np.array(df['unemployment_rate'])\n",
    "index_price= np.array(df['index_price'])\n",
    "\n",
    "# 입력값, 예측값 나누기\n",
    "variable = np.column_stack((year,month,interest_rate,unemployment_rate))\n",
    "price = index_price\n",
    "\n",
    "print(variable.shape)\n",
    "print(price.shape)\n",
    "# print(variable[:,5])\n",
    "# print(price[:,5])\n",
    "\n",
    "# train , test 나누기\n",
    "from sklearn.model_selection import train_test_split\n",
    "\n",
    "train_input_total, test_input_total, train_target, test_target = train_test_split(variable,price, random_state=42)\n",
    "\n"
   ]
  },
  {
   "cell_type": "markdown",
   "metadata": {},
   "source": [
    "1. 선형 회귀: 이자율과 물가지수 상관 관계 분석  \n",
    "- 물가지수와 이자율 산점도 및 선형 회귀 분석"
   ]
  },
  {
   "cell_type": "code",
   "execution_count": 68,
   "metadata": {},
   "outputs": [
    {
     "name": "stdout",
     "output_type": "stream",
     "text": [
      "(18,)\n",
      "(6,)\n",
      "(18, 1)\n",
      "(6, 1)\n",
      "모 델 기 울 기:  [574.45637584]\n",
      "모 델  절   편:  -127.38255033557039\n"
     ]
    }
   ],
   "source": [
    "# 사용할 이자율만 추출해서 train, test로 나누고, 2차 배열로 변환\n",
    "train_input = train_input_total[:,2]\n",
    "test_input = test_input_total[:,2]\n",
    "print(train_input.shape)\n",
    "print(test_input.shape)\n",
    "\n",
    "train_input = train_input.reshape(-1,1)\n",
    "test_input = test_input.reshape(-1,1)\n",
    "\n",
    "# 2차 배열 변환 확인\n",
    "print(train_input.shape)\n",
    "print(test_input.shape)\n",
    "\n",
    "# 모델의 기울기, 절편 구하기\n",
    "from sklearn.linear_model import LinearRegression\n",
    "\n",
    "lr = LinearRegression()\n",
    "lr.fit(train_input, train_target)\n",
    "\n",
    "#\t기울기(a):\tcoef_,\t절편(bias):\tintercept_\n",
    "print('모 델 기 울 기: ', lr.coef_)\n",
    "print('모 델  절   편: ', lr.intercept_)"
   ]
  },
  {
   "cell_type": "code",
   "execution_count": 69,
   "metadata": {},
   "outputs": [
    {
     "data": {
      "image/png": "[encoded data removed]",
      "text/plain": [
       "<Figure size 864x288 with 2 Axes>"
      ]
     },
     "metadata": {
      "needs_background": "light"
     },
     "output_type": "display_data"
    },
    {
     "name": "stdout",
     "output_type": "stream",
     "text": [
      "Interest Rate vs. Index Price\n",
      "coef_:  [574.45637584] intercept_: -127.38255033557039\n",
      "train data score:  0.8541859618501457\n",
      "test data score:  0.9418923929450573\n"
     ]
    }
   ],
   "source": [
    "# 산점도 및 선형 회귀\n",
    "import matplotlib.pyplot as plt\n",
    "\n",
    "fig, ax = plt.subplots(1, 2, figsize=(12,4))\n",
    "\n",
    "# train+test 산점도\n",
    "plt.subplot(1,2,1)\n",
    "plt.title('Index Price Vs Interest Rate')\n",
    "plt.scatter(train_input,train_target,color='tomato')\n",
    "plt.scatter(test_input,test_target,color='tomato')\n",
    "plt.xlabel('interest Rate')\n",
    "plt.ylabel('Index Price')\n",
    "plt.grid()\n",
    "\n",
    "# 회귀선 추가\n",
    "plt.subplot(1,2,2)\n",
    "plt.title('Interest Rate vs. Index Price')\n",
    "plt.scatter(train_input, train_target)\n",
    "#\tplot([x축 데이터:시작, 끝],\t[y축 데이터:시작, 끝])\n",
    "plt.plot(train_input, train_input*lr.coef_ + lr.intercept_, color='red',linestyle='--')\n",
    "plt.xlabel('interest Rate')\n",
    "plt.ylabel('Index Price')\n",
    "plt.show()\n",
    "\n",
    "# 정확도 체크\n",
    "print('Interest Rate vs. Index Price')\n",
    "print('coef_: ', lr.coef_, \"intercept_:\", lr.intercept_)\n",
    "print('train data score: ', lr.score(train_input, train_target))\n",
    "print('test data score: ', lr.score(test_input, test_target))"
   ]
  },
  {
   "cell_type": "markdown",
   "metadata": {},
   "source": [
    "2. 다항 회귀: 이자율과 물가지수 상관 관계 분석"
   ]
  },
  {
   "cell_type": "code",
   "execution_count": 70,
   "metadata": {},
   "outputs": [
    {
     "name": "stdout",
     "output_type": "stream",
     "text": [
      "1.이자율 제곱 데이터 추가된 훈련세트:\n",
      " [[3.0625 1.75  ]\n",
      " [6.25   2.5   ]\n",
      " [3.0625 1.75  ]\n",
      " [6.25   2.5   ]\n",
      " [6.25   2.5   ]]\n",
      "2.배열 변화: (18, 2) (6, 2)\n",
      "모 델 기 울 기:  [-524.84946237 2802.42473118]\n",
      "모 델  절   편:  -2429.1028225806535\n"
     ]
    }
   ],
   "source": [
    "# 이자율 제곱 데이터를 훈련 세트에 추가\n",
    "train_poly = np.column_stack((train_input**2, train_input))\n",
    "test_poly =\tnp.column_stack((test_input**2,\ttest_input))\n",
    "\n",
    "print('1.이자율 제곱 데이터 추가된 훈련세트:\\n',train_poly[0:5])\n",
    "print('2.배열 변화:',train_poly.shape, test_poly.shape)\n",
    "\n",
    "# 다항 회귀식 구하기 \n",
    "\n",
    "lr = LinearRegression()\n",
    "lr.fit(train_poly, train_target)\n",
    "\n",
    "# 기울기(a):\tcoef_,\t절편(bias):\tintercept_\n",
    "print('모 델 기 울 기: ', lr.coef_)\n",
    "print('모 델  절   편: ', lr.intercept_)"
   ]
  },
  {
   "cell_type": "code",
   "execution_count": 71,
   "metadata": {},
   "outputs": [
    {
     "data": {
      "image/png": "[encoded data removed]",
      "text/plain": [
       "<Figure size 432x288 with 1 Axes>"
      ]
     },
     "metadata": {
      "needs_background": "light"
     },
     "output_type": "display_data"
    },
    {
     "name": "stdout",
     "output_type": "stream",
     "text": [
      "이자율과 물가지수 다항 회귀\n",
      "다항 회귀 coef_:  [-524.84946237 2802.42473118] intercept_: -2429.1028225806535\n",
      "다항 회귀 train data score: 0.8676269364555872\n",
      "다항 회귀 test data score: 0.7945265214367347\n"
     ]
    }
   ],
   "source": [
    "# 산점도 및 회귀선\n",
    "point = np.arange(1.7,2.6,0.1) \n",
    "\n",
    "plt.scatter(train_input,train_target)\n",
    "\n",
    "plt.plot(point, lr.coef_[0]*point**2 + lr.coef_[1]*point + lr.intercept_, color='red',linestyle='--')\n",
    "\n",
    "plt.xlabel('interest Rate')\n",
    "plt.ylabel('Index Price')\n",
    "plt.show()\n",
    "\n",
    "print('이자율과 물가지수 다항 회귀')\n",
    "print('다항 회귀 coef_: ', lr.coef_, \"intercept_:\", lr.intercept_)\n",
    "print('다항 회귀 train data score:', lr.score(train_poly,\ttrain_target))\n",
    "print('다항 회귀 test data score:', lr.score(test_poly,\ttest_target))"
   ]
  },
  {
   "cell_type": "markdown",
   "metadata": {},
   "source": [
    "3. 선형 회귀: 실업률과 물가지수 상관 관계 분석  \n",
    "- 실업률과 물가지수 산점도 및 선형 회귀 분석"
   ]
  },
  {
   "cell_type": "code",
   "execution_count": 72,
   "metadata": {},
   "outputs": [
    {
     "name": "stdout",
     "output_type": "stream",
     "text": [
      "(18,)\n",
      "(6,)\n",
      "(18, 1)\n",
      "(6, 1)\n",
      "모 델 기 울 기:  [-611.41330166]\n",
      "모 델  절   편:  4586.054631828979\n"
     ]
    }
   ],
   "source": [
    "# train, test input 을 실업률 로 설정\n",
    "train_input = train_input_total[:,3]\n",
    "test_input = test_input_total[:,3]\n",
    "\n",
    "print(train_input.shape)\n",
    "print(test_input.shape)\n",
    "\n",
    "train_input = train_input.reshape(-1,1)\n",
    "test_input = test_input.reshape(-1,1)\n",
    "\n",
    "# 2차 배열 변환 확인\n",
    "print(train_input.shape)\n",
    "print(test_input.shape)\n",
    "\n",
    "# 모델의 기울기, 절편 구하기\n",
    "from sklearn.linear_model import LinearRegression\n",
    "\n",
    "lr = LinearRegression()\n",
    "lr.fit(train_input, train_target)\n",
    "\n",
    "#\t기울기(a):\tcoef_,\t절편(bias):\tintercept_\n",
    "print('모 델 기 울 기: ', lr.coef_)\n",
    "print('모 델  절   편: ', lr.intercept_)\n"
   ]
  },
  {
   "cell_type": "code",
   "execution_count": 73,
   "metadata": {},
   "outputs": [
    {
     "data": {
      "image/png": "[encoded data removed]",
      "text/plain": [
       "<Figure size 864x288 with 2 Axes>"
      ]
     },
     "metadata": {
      "needs_background": "light"
     },
     "output_type": "display_data"
    },
    {
     "name": "stdout",
     "output_type": "stream",
     "text": [
      "Unemployment Rate vs. Index Price\n",
      "coef_:  [-611.41330166] intercept_: 4586.054631828979\n",
      "train data score:  0.8748908875163574\n",
      "test data score:  0.7074751133772279\n"
     ]
    }
   ],
   "source": [
    "# 산점도 및 선형 회귀\n",
    "import matplotlib.pyplot as plt\n",
    "\n",
    "fig, ax = plt.subplots(1, 2, figsize=(12,4))\n",
    "\n",
    "# train + test 산점도\n",
    "plt.subplot(1,2,1)\n",
    "plt.title('Index Price Vs Unemployment Rate ')\n",
    "plt.scatter(train_input, train_target,color='green')\n",
    "plt.scatter(test_input, test_target,color='green')\n",
    "plt.xlabel('Unemployment Rate')\n",
    "plt.ylabel('Index Price')\n",
    "plt.grid()\n",
    "\n",
    "# 회귀선 추가\n",
    "plt.subplot(1,2,2)\n",
    "plt.title('Unemployment Rate vs. Index Price')\n",
    "plt.scatter(train_input, train_target)\n",
    "plt.plot(train_input, train_input*lr.coef_ + lr.intercept_, color='red',linestyle='--')\n",
    "plt.xlabel('Unemployment Rate')\n",
    "plt.ylabel('Index Price')\n",
    "plt.show()\n",
    "\n",
    "# 정확도 체크\n",
    "print('Unemployment Rate vs. Index Price')\n",
    "print('coef_: ', lr.coef_, \"intercept_:\", lr.intercept_)\n",
    "print('train data score: ', lr.score(train_input, train_target))\n",
    "print('test data score: ', lr.score(test_input, test_target))"
   ]
  },
  {
   "cell_type": "code",
   "execution_count": 74,
   "metadata": {},
   "outputs": [
    {
     "name": "stdout",
     "output_type": "stream",
     "text": [
      "1.실업률 제곱 데이터 추가된 훈련세트:\n",
      " [[34.81  5.9 ]\n",
      " [28.09  5.3 ]\n",
      " [38.44  6.2 ]\n",
      " [31.36  5.6 ]\n",
      " [28.09  5.3 ]]\n",
      "2.배열 변화: (18, 2) (6, 2)\n",
      "모 델 기 울 기:  [  -7.26428138 -527.97932022]\n",
      "모 델  절   편:  4347.248197109282\n"
     ]
    }
   ],
   "source": [
    "# 실업률 제곱 데이터를 훈련 세트에 추가\n",
    "train_poly = np.column_stack((train_input**2, train_input))\n",
    "test_poly =\tnp.column_stack((test_input**2,\ttest_input))\n",
    "\n",
    "print('1.실업률 제곱 데이터 추가된 훈련세트:\\n',train_poly[0:5])\n",
    "print('2.배열 변화:',train_poly.shape, test_poly.shape)\n",
    "\n",
    "# 다항 회귀식 구하기 \n",
    "\n",
    "lr = LinearRegression()\n",
    "lr.fit(train_poly, train_target)\n",
    "\n",
    "# 기울기(a):\tcoef_,\t절편(bias):\tintercept_\n",
    "print('모 델 기 울 기: ', lr.coef_)\n",
    "print('모 델  절   편: ', lr.intercept_)"
   ]
  },
  {
   "cell_type": "code",
   "execution_count": 75,
   "metadata": {},
   "outputs": [
    {
     "data": {
      "image/png": "[encoded data removed]",
      "text/plain": [
       "<Figure size 432x288 with 1 Axes>"
      ]
     },
     "metadata": {
      "needs_background": "light"
     },
     "output_type": "display_data"
    },
    {
     "name": "stdout",
     "output_type": "stream",
     "text": [
      "실업률과 물가지수 다항 회귀\n",
      "다항 회귀 coef_:  [  -7.26428138 -527.97932022] intercept_: 4347.248197109282\n",
      "다항 회귀 train data score: 0.8748971920999006\n",
      "다항 회귀 test data score: 0.7057073065929044\n"
     ]
    }
   ],
   "source": [
    "# 산점도 및 회귀선\n",
    "point = np.arange(5.3,6.3,0.1) \n",
    "plt.scatter(train_input,train_target)\n",
    "\n",
    "plt.plot(point, lr.coef_[0]*point**2 + lr.coef_[1]*point + lr.intercept_, color='red',linestyle='--')\n",
    "\n",
    "plt.xlabel('Unemployment Rate')\n",
    "plt.ylabel('Index Price')\n",
    "plt.show()\n",
    "\n",
    "print('실업률과 물가지수 다항 회귀')\n",
    "print('다항 회귀 coef_: ', lr.coef_, \"intercept_:\", lr.intercept_)\n",
    "print('다항 회귀 train data score:', lr.score(train_poly,\ttrain_target))\n",
    "print('다항 회귀 test data score:', lr.score(test_poly,\ttest_target))"
   ]
  },
  {
   "cell_type": "code",
   "execution_count": null,
   "metadata": {},
   "outputs": [],
   "source": []
  }
 ],
 "metadata": {
  "kernelspec": {
   "display_name": "Python 3.10.5 ('base')",
   "language": "python",
   "name": "python3"
  },
  "language_info": {
   "codemirror_mode": {
    "name": "ipython",
    "version": 3
   },
   "file_extension": ".py",
   "mimetype": "text/x-python",
   "name": "python",
   "nbconvert_exporter": "python",
   "pygments_lexer": "ipython3",
   "version": "3.10.5"
  },
  "orig_nbformat": 4,
  "vscode": {
   "interpreter": {
    "hash": "d4d1e4263499bec80672ea0156c357c1ee493ec2b1c70f0acce89fc37c4a6abe"
   }
  }
 },
 "nbformat": 4,
 "nbformat_minor": 2
}
