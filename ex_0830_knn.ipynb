{
 "cells": [
  {
   "cell_type": "markdown",
   "metadata": {},
   "source": [
    "# 머신러닝 1장(생선 분류 문제) \n",
    "### 2022.08.30(화)"
   ]
  },
  {
   "cell_type": "code",
   "execution_count": 2,
   "metadata": {},
   "outputs": [],
   "source": [
    "# 도미 데이터\n",
    "bream_length =\t[25.4,\t26.3,\t26.5,\t29.0,\t29.0,\t29.7,\t29.7,\t30.0,\t30.0,\t30.7,\t31.0,\t\n",
    "31.0,\t31.5,\t32.0,\t32.0,\t32.0,\t33.0,\t33.0,\t33.5,\t33.5,\t34.0,\t34.0,\t\n",
    "34.5,\t35.0,\t35.0,\t35.0,\t35.0,\t36.0,\t36.0,\t37.0,\t38.5,\t38.5,\t39.5,\t\n",
    "41.0,\t41.0]\n",
    "bream_weight = [242.0,\t290.0,\t340.0,\t363.0,\t430.0,\t450.0,\t500.0,\t390.0,\t450.0,\t500.0,\t\n",
    "475.0,\t500.0,\t500.0,\t340.0,\t600.0,\t600.0,\t700.0,\t700.0,\t610.0,\t650.0,\n",
    "575.0,\t685.0,\t620.0,\t680.0,\t700.0,\t725.0,\t720.0,\t714.0,\t850.0,\t1000.0,\n",
    "920.0,\t955.0,\t925.0,\t975.0,\t950.0]\n",
    "\n",
    "# 빙어 데이터\n",
    "smelt_length = [9.8, 10.5, 10.6, 11.0, 11.2, 11.3, 11.8, 11.8, 12.0, 12.2,\n",
    "12.4, 13.0, 14.3, 15.0]\n",
    "smelt_weight = [6.7, 7.5, 7.0, 9.7, 9.8, 8.7, 10.0, 9.9, 9.8, 12.2, 13.4,\n",
    "12.2, 19.7, 19.9]"
   ]
  },
  {
   "cell_type": "code",
   "execution_count": 3,
   "metadata": {},
   "outputs": [
    {
     "data": {
      "image/png": "[encoded data removed]",
      "text/plain": [
       "<Figure size 432x288 with 1 Axes>"
      ]
     },
     "metadata": {
      "needs_background": "light"
     },
     "output_type": "display_data"
    }
   ],
   "source": [
    "# 빙어 데이터 산점도 그래프\n",
    "import matplotlib.pyplot as plt\n",
    "plt.scatter(bream_length, bream_weight)\n",
    "plt.xlabel('bream length') # x축은 길이\n",
    "plt.ylabel('bream weight') # y축은 무게\n",
    "plt.show()"
   ]
  },
  {
   "cell_type": "code",
   "execution_count": 4,
   "metadata": {},
   "outputs": [
    {
     "data": {
      "image/png": "[encoded data removed]",
      "text/plain": [
       "<Figure size 432x288 with 1 Axes>"
      ]
     },
     "metadata": {
      "needs_background": "light"
     },
     "output_type": "display_data"
    }
   ],
   "source": [
    "# 도미 데이터와 빙어 데이터 비교 (산점도)\n",
    "plt.scatter(bream_length,bream_weight, label = 'bream')\n",
    "plt.scatter(smelt_length,smelt_weight, label = 'smelt')\n",
    "plt.xlabel('length')\n",
    "plt.ylabel('weight')\n",
    "plt.legend()\n",
    "plt.show()"
   ]
  },
  {
   "cell_type": "code",
   "execution_count": 5,
   "metadata": {},
   "outputs": [
    {
     "name": "stdout",
     "output_type": "stream",
     "text": [
      "[[25.4, 242.0], [26.3, 290.0], [26.5, 340.0], [29.0, 363.0], [29.0, 430.0], [29.7, 450.0], [29.7, 500.0], [30.0, 390.0], [30.0, 450.0], [30.7, 500.0], [31.0, 475.0], [31.0, 500.0], [31.5, 500.0], [32.0, 340.0], [32.0, 600.0], [32.0, 600.0], [33.0, 700.0], [33.0, 700.0], [33.5, 610.0], [33.5, 650.0], [34.0, 575.0], [34.0, 685.0], [34.5, 620.0], [35.0, 680.0], [35.0, 700.0], [35.0, 725.0], [35.0, 720.0], [36.0, 714.0], [36.0, 850.0], [37.0, 1000.0], [38.5, 920.0], [38.5, 955.0], [39.5, 925.0], [41.0, 975.0], [41.0, 950.0], [9.8, 6.7], [10.5, 7.5], [10.6, 7.0], [11.0, 9.7], [11.2, 9.8], [11.3, 8.7], [11.8, 10.0], [11.8, 9.9], [12.0, 9.8], [12.2, 12.2], [12.4, 13.4], [13.0, 12.2], [14.3, 19.7], [15.0, 19.9]]\n"
     ]
    }
   ],
   "source": [
    "# 2차원 리스트로 데이터 변형\n",
    "length = bream_length + smelt_length\n",
    "weight = bream_weight + smelt_weight\n",
    "\n",
    "fish_data = [[l,w] for l,w in zip(length, weight)]\n",
    "print(fish_data)"
   ]
  },
  {
   "cell_type": "code",
   "execution_count": 6,
   "metadata": {},
   "outputs": [
    {
     "name": "stdout",
     "output_type": "stream",
     "text": [
      "[1, 1, 1, 1, 1, 1, 1, 1, 1, 1, 1, 1, 1, 1, 1, 1, 1, 1, 1, 1, 1, 1, 1, 1, 1, 1, 1, 1, 1, 1, 1, 1, 1, 1, 1, 0, 0, 0, 0, 0, 0, 0, 0, 0, 0, 0, 0, 0, 0]\n"
     ]
    }
   ],
   "source": [
    "# 정답 데이터 준비: 도미 1, 빙어 0 \n",
    "fish_target = [1] * 35 + [0] * 14\n",
    "print(fish_target)"
   ]
  },
  {
   "cell_type": "markdown",
   "metadata": {},
   "source": [
    "## k-Nearest Neighbor(kNN)"
   ]
  },
  {
   "cell_type": "code",
   "execution_count": 7,
   "metadata": {},
   "outputs": [
    {
     "name": "stderr",
     "output_type": "stream",
     "text": [
      "findfont: Font family ['AppleGothic'] not found. Falling back to DejaVu Sans.\n"
     ]
    },
    {
     "name": "stdout",
     "output_type": "stream",
     "text": [
      "score:  1.0\n",
      "(30,600) 위치 존재 예측:  [1]\n"
     ]
    },
    {
     "name": "stderr",
     "output_type": "stream",
     "text": [
      "/opt/conda/lib/python3.10/site-packages/IPython/core/pylabtools.py:151: UserWarning: Glyph 46020 (\\N{HANGUL SYLLABLE DO}) missing from current font.\n",
      "  fig.canvas.print_figure(bytes_io, **kw)\n",
      "/opt/conda/lib/python3.10/site-packages/IPython/core/pylabtools.py:151: UserWarning: Glyph 48120 (\\N{HANGUL SYLLABLE MI}) missing from current font.\n",
      "  fig.canvas.print_figure(bytes_io, **kw)\n",
      "/opt/conda/lib/python3.10/site-packages/IPython/core/pylabtools.py:151: UserWarning: Glyph 48729 (\\N{HANGUL SYLLABLE BING}) missing from current font.\n",
      "  fig.canvas.print_figure(bytes_io, **kw)\n",
      "/opt/conda/lib/python3.10/site-packages/IPython/core/pylabtools.py:151: UserWarning: Glyph 50612 (\\N{HANGUL SYLLABLE EO}) missing from current font.\n",
      "  fig.canvas.print_figure(bytes_io, **kw)\n"
     ]
    },
    {
     "data": {
      "image/png": "[encoded data removed]",
      "text/plain": [
       "<Figure size 432x288 with 1 Axes>"
      ]
     },
     "metadata": {
      "needs_background": "light"
     },
     "output_type": "display_data"
    }
   ],
   "source": [
    "# KNN모델 생성\n",
    "# 기본 이웃 개수: n_neighbors = 5\n",
    "from sklearn.neighbors import KNeighborsClassifier\n",
    "kn = KNeighborsClassifier()\n",
    "\n",
    "# 모델 훈련(학습)\n",
    "# fit(Training data, Target values) 함수\n",
    "kn.fit(fish_data, fish_target)\n",
    "\n",
    "# 모델 평가\n",
    "# score(Test samples, Target values): 정확도의 평균값 리턴\n",
    "score = kn.score(fish_data, fish_target)\n",
    "print('score: ',score)\n",
    "\n",
    "# 새로운 데이터를 활용한 결과 예측\n",
    "# predict(X)\n",
    "pred = kn.predict([[30,600]])\n",
    "print('(30,600) 위치 존재 예측: ', pred)\n",
    "\n",
    "import platform\n",
    "\n",
    "if platform.system()\t==\t'Windows':\n",
    "    plt.rc('font',\tfamily='Malgun Gothic')\n",
    "elif platform.system()\t==\t'Darwin':\t#\tMacOS\n",
    "    plt.rc('font',\tfamily='AppleGothic')\n",
    "else:\n",
    "    plt.rc('font',\tfamily='AppleGothic')\n",
    "\n",
    "\n",
    "plt.scatter(bream_length,\tbream_weight,\tlabel='bream(도미)')\n",
    "plt.scatter(smelt_length,\tsmelt_weight,\tlabel='smelt(빙어)')\n",
    "plt.scatter(30,\t600,\tmarker='^',\tcolor='red')\n",
    "plt.xlabel('length')\n",
    "plt.ylabel('weight')\n",
    "plt.legend()\n",
    "plt.show()"
   ]
  },
  {
   "cell_type": "code",
   "execution_count": 8,
   "metadata": {},
   "outputs": [
    {
     "name": "stdout",
     "output_type": "stream",
     "text": [
      "모델 정확도:  0.7142857142857143\n",
      "35/49=  0.7142857142857143\n"
     ]
    }
   ],
   "source": [
    "# n_neighbors 값 변경(49)\n",
    "kn49 = KNeighborsClassifier(n_neighbors=49)\n",
    "kn49.fit(fish_data, fish_target)\n",
    "score = kn49.score(fish_data, fish_target)\n",
    "print('모델 정확도: ', score)\n",
    "print('35/49= ',35/49)"
   ]
  },
  {
   "cell_type": "markdown",
   "metadata": {},
   "source": [
    "### 2. 훈련 데이터 , 테스트 데이터 분리해서 사용 "
   ]
  },
  {
   "cell_type": "code",
   "execution_count": 40,
   "metadata": {},
   "outputs": [],
   "source": [
    "# 데이터\n",
    "fish_length = [25.4, 26.3, 26.5, 29.0, 29.0, 29.7, 29.7, 30.0, 30.0, 30.7,\n",
    "31.0, 31.0, 31.5, 32.0, 32.0, 32.0, 33.0, 33.0, 33.5, 33.5,\n",
    "34.0, 34.0, 34.5, 35.0, 35.0, 35.0, 35.0, 36.0, 36.0, 37.0,\n",
    "38.5, 38.5, 39.5, 41.0, 41.0, 9.8, 10.5, 10.6, 11.0, 11.2,\n",
    "11.3, 11.8, 11.8, 12.0, 12.2, 12.4, 13.0, 14.3, 15.0]\n",
    "fish_weight = [242.0, 290.0, 340.0, 363.0, 430.0, 450.0, 500.0, 390.0, 450.0, 500.0,\n",
    "475.0, 500.0, 500.0, 340.0, 600.0, 600.0, 700.0, 700.0, 610.0, 650.0,\n",
    "575.0, 685.0, 620.0, 680.0, 700.0, 725.0, 720.0, 714.0, 850.0, 1000.0,\n",
    "920.0, 955.0, 925.0, 975.0, 950.0, 6.7, 7.5, 7.0, 9.7, 9.8,\n",
    "8.7, 10.0, 9.9, 9.8, 12.2, 13.4, 12.2, 19.7, 19.9]\n",
    "\n",
    "fish_data = [[l, w] for l, w in zip(fish_length, fish_weight)] # 2차원 리스트[길이, 무게]\n",
    "fish_target = [1] * 35 + [0]*14 # target 값 생성"
   ]
  },
  {
   "cell_type": "markdown",
   "metadata": {},
   "source": [
    "잘못된 데이터 생성\n",
    "-> 랜덤하게 데이터를 분류하지 않았음."
   ]
  },
  {
   "cell_type": "code",
   "execution_count": 48,
   "metadata": {},
   "outputs": [
    {
     "data": {
      "text/plain": [
       "0.0"
      ]
     },
     "execution_count": 48,
     "metadata": {},
     "output_type": "execute_result"
    }
   ],
   "source": [
    "# train data , test data 생성하기\n",
    "\n",
    "#\t훈련 세트 생성(35개)\n",
    "train_input =\tfish_data[:35]\t\n",
    "train_target =\tfish_target[:35]\n",
    "#\t테스트 세트 생성(14개)\n",
    "test_input =\tfish_data[35:]\n",
    "test_target =\tfish_target[35:]\n",
    "\n",
    "from sklearn.neighbors import KNeighborsClassifier\n",
    "kn = KNeighborsClassifier() # 객체 생성\n",
    "kn = kn.fit(train_input, train_target) # 모델 훈련\n",
    "kn.score(test_input, test_target) # 테스트 세트로 평가 (정확도 출력)"
   ]
  },
  {
   "cell_type": "markdown",
   "metadata": {},
   "source": [
    "### Numpy로 배열 \n",
    "    • random.seed(seed) : 랜덤값 생성을 위한 초기값 지정\n",
    "        – 초기값(seed)값이 같으면 동일한 랜덤값을 뽑을 수 있음\n",
    "    • Numpy.arange(stop):\tstop-1까지 1의 간격으로 배열 생성\n",
    "        – arange:\tarray\trange\n",
    "    • random.shuffle(x):\t배열 x(ndarray 타입)를 무작위로 섞음\n"
   ]
  },
  {
   "cell_type": "code",
   "execution_count": 61,
   "metadata": {},
   "outputs": [
    {
     "name": "stdout",
     "output_type": "stream",
     "text": [
      "[ 0  1  2  3  4  5  6  7  8  9 10 11 12 13 14 15 16 17 18 19 20 21 22 23\n",
      " 24 25 26 27 28 29 30 31 32 33 34 35 36 37 38 39 40 41 42 43 44 45 46 47\n",
      " 48]\n",
      "[13 45 47 44 17 27 26 25 31 19 12  4 34  8  3  6 40 41 46 15  9 16 24 33\n",
      " 30  0 43 32  5 29 11 36  1 21  2 37 35 23 39 10 22 18 48 20  7 42 14 28\n",
      " 38]\n"
     ]
    },
    {
     "data": {
      "image/png": "[encoded data removed]",
      "text/plain": [
       "<Figure size 432x288 with 1 Axes>"
      ]
     },
     "metadata": {
      "needs_background": "light"
     },
     "output_type": "display_data"
    }
   ],
   "source": [
    "import numpy as np\n",
    "\n",
    "# 배열 생성\n",
    "input_arr = np.array(fish_data)\n",
    "target_arr = np.array(fish_target)\n",
    "# print(input_arr)\n",
    "# print(input_arr.shape) # 배열의 크기 리턴\n",
    "\n",
    "\n",
    "# 랜덤 배열 생성\n",
    "np.random.seed(42)\n",
    "index_list = np.arange(49) # 0~48까지 값을 가지는 배열 생성\n",
    "print(index_list) \n",
    "\n",
    "np.random.shuffle(index_list) # 배열 내용을 무작위로 섞음.\n",
    "print(index_list)\n",
    "\n",
    "# 훈련세트/테스트세트 생성\n",
    "train_input = input_arr[index_list[:35]]\n",
    "train_target = target_arr[index_list[:35]]\n",
    "test_input = input_arr[index_list[35:]]\n",
    "test_target = target_arr[index_list[35:]]\n",
    "\n",
    "# 훈련세트/테스트세트 데이터 확인 (산점도)\n",
    "import matplotlib.pyplot as plt\n",
    "plt.scatter(train_input[:,0], train_input[:,1], label ='train set')\n",
    "plt.scatter(test_input[:,0], test_input[:,1], label ='test set')\n",
    "\n",
    "plt.xlabel('length')\n",
    "plt.ylabel('weight')\n",
    "plt.legend()\n",
    "plt.show()"
   ]
  },
  {
   "cell_type": "code",
   "execution_count": 91,
   "metadata": {},
   "outputs": [
    {
     "name": "stdout",
     "output_type": "stream",
     "text": [
      "score:  1.0\n",
      "predict:      [0. 0. 1. 0. 1. 0. 1. 1. 1. 1. 1. 1. 1.]\n",
      "test_target:  [0. 0. 1. 0. 1. 0. 1. 1. 1. 1. 1. 1. 1.]\n"
     ]
    }
   ],
   "source": [
    "# 머신 러닝 프로그램 생성 및 훈련\n",
    "kn = kn.fit(train_input, train_target)\n",
    "print(\"score: \", kn.score(test_input, test_target))\n",
    "\n",
    "print(\"predict:     \", kn.predict(test_input))\n",
    "print(\"test_target: \", test_target)"
   ]
  },
  {
   "cell_type": "markdown",
   "metadata": {},
   "source": [
    "문제점 발생: 길이 25cm, 무게 150g인 도미를 빙어로 판단\n",
    "\n",
    "• 샘플 데이터의 두 특성(길이, 무게)의 스케일이 다르기 때문   \n",
    "    -스케일을 조정해야 됨: 표준점수로 변환해야 됨  \n",
    "• 표준 점수: 평균과의 거리  "
   ]
  },
  {
   "cell_type": "code",
   "execution_count": 64,
   "metadata": {},
   "outputs": [
    {
     "name": "stdout",
     "output_type": "stream",
     "text": [
      "predict(길이 25cm, 무게 150g):  [0]\n"
     ]
    }
   ],
   "source": [
    "print(\"predict(길이 25cm, 무게 150g): \", kn.predict([[25,150]]))"
   ]
  },
  {
   "cell_type": "code",
   "execution_count": 92,
   "metadata": {},
   "outputs": [
    {
     "name": "stdout",
     "output_type": "stream",
     "text": [
      "[[ 25.4 242. ]\n",
      " [ 26.3 290. ]\n",
      " [ 26.5 340. ]\n",
      " [ 29.  363. ]\n",
      " [ 29.  430. ]]\n",
      "[1. 1. 1. 1. 1. 1. 1. 1. 1. 1. 1. 1. 1. 1. 1. 1. 1. 1. 1. 1. 1. 1. 1. 1.\n",
      " 1. 1. 1. 1. 1. 1. 1. 1. 1. 1. 1. 0. 0. 0. 0. 0. 0. 0. 0. 0. 0. 0. 0. 0.\n",
      " 0.]\n",
      "train_input.shape: (36, 2) test_input.shape: (13, 2)\n",
      "train_target: [1. 0. 1. 0. 1. 1. 1. 1. 1. 1. 1. 0. 1. 0. 1. 1. 1. 1. 1. 0. 1. 1. 0. 1.\n",
      " 0. 1. 0. 1. 1. 1. 0. 1. 1. 0. 1. 1.]\n",
      "test_target: [0. 0. 1. 0. 1. 0. 1. 1. 1. 1. 1. 1. 1.]\n"
     ]
    },
    {
     "data": {
      "image/png": "[encoded data removed]",
      "text/plain": [
       "<Figure size 432x288 with 1 Axes>"
      ]
     },
     "metadata": {
      "needs_background": "light"
     },
     "output_type": "display_data"
    },
    {
     "name": "stdout",
     "output_type": "stream",
     "text": [
      "[[ 92.00086956 130.48375378 130.73859415 138.32150953 138.39320793]]\n",
      "[[21 33 19 30  1]]\n"
     ]
    },
    {
     "data": {
      "image/png": "[encoded data removed]",
      "text/plain": [
       "<Figure size 432x288 with 1 Axes>"
      ]
     },
     "metadata": {
      "needs_background": "light"
     },
     "output_type": "display_data"
    },
    {
     "name": "stdout",
     "output_type": "stream",
     "text": [
      "neighbors: [[[ 25.4 242. ]\n",
      "  [ 15.   19.9]\n",
      "  [ 14.3  19.7]\n",
      "  [ 13.   12.2]\n",
      "  [ 12.2  12.2]]]\n",
      "train: [[1. 0. 0. 0. 0.]]\n"
     ]
    }
   ],
   "source": [
    "# 데이터 생성 : numpy column_stack, np.ones, np.zeros \n",
    "fish_data = np.column_stack((fish_length, fish_weight))\n",
    "print(fish_data[:5])\n",
    "\n",
    "fish_target = np.concatenate((np.ones(35),np.zeros(14)))\n",
    "print(fish_target)\n",
    "\n",
    "# 사이킷런으로 훈련 세트와 테스트 세트 나누기\n",
    "from sklearn.model_selection import train_test_split\n",
    "\n",
    "# train_test_split함수 파라미터 내용(4개의 데이터셋을 리턴)\n",
    "# – test_size:\t0.0 ~ 1.0 사이\n",
    "#  None:자동으로 25% 비율로 테스트 세트 생성\n",
    "# – train_size:\t0.0\t~ 1.0 사이\n",
    "#  None:자동으로 75% 비율로 훈련 세트 생성\n",
    "# – random_state: 랜덤 시드 설정\n",
    "# – stratify: target 데이터를 전달하면, 클래스 비율(0, 1)에 맞게 데이터를 나눔.\n",
    "\n",
    "train_input, test_input, train_target, test_target = train_test_split(\n",
    "    fish_data, fish_target, stratify=fish_target, random_state=42)\n",
    "\n",
    "print('train_input.shape:', train_input.shape,\n",
    "        'test_input.shape:', test_input.shape  )  \n",
    "print('train_target:',train_target)\n",
    "print('test_target:',test_target)\n",
    "\n",
    "# 길이 25cm, 무게 150g의 생선을 산점도로 표시\n",
    "import matplotlib.pyplot as plt\n",
    "plt.scatter(train_input[:,0], train_input[:,1])\n",
    "plt.scatter(25,150,marker='^')\n",
    "plt.xlabel('length')\n",
    "plt.ylabel('weight')\n",
    "plt.show()\n",
    "\n",
    "# 가장 가까운 이웃과의 거리 계산\n",
    "# kn.kneighbors() : 가장 가까운 이웃 5개 찾음.\n",
    "distances, indexes = kn.kneighbors([[25,150]])\n",
    "print(distances)\n",
    "print(indexes)\n",
    "\n",
    "# 가장 가까운 이웃 5개 산점도로 표시\n",
    "plt.scatter(train_input[:,0],train_input[:,1], label ='train_data', color ='b')\n",
    "plt.scatter(25,150, marker ='^', color ='orange', label='Unknown')\n",
    "plt.scatter(train_input[indexes,0], train_input[indexes,1], marker='D',label='neighbors',color='r')\n",
    "plt.legend()\n",
    "plt.show()\n",
    "print('neighbors:', train_input[indexes])\n",
    "print('train:', train_target[indexes])"
   ]
  },
  {
   "cell_type": "markdown",
   "metadata": {},
   "source": [
    "- 스케일을 동일하게 설정"
   ]
  },
  {
   "cell_type": "code",
   "execution_count": 93,
   "metadata": {},
   "outputs": [
    {
     "data": {
      "image/png": "[encoded data removed]",
      "text/plain": [
       "<Figure size 432x288 with 1 Axes>"
      ]
     },
     "metadata": {
      "needs_background": "light"
     },
     "output_type": "display_data"
    }
   ],
   "source": [
    "# Scale을 동일하게 수정 -> x축, y축의 범위를 동일하게 수정\n",
    "# 길이, 무게 의 scale이 다름\n",
    "# xlim(), ylim()으로 범위 지정\n",
    "\n",
    "plt.scatter(train_input[:,0],train_input[:,1],label = 'train_data', color='b')\n",
    "plt.scatter(25,150, marker='^',color ='orange', label='Unknown')\n",
    "plt.scatter(train_input[indexes,0], train_input[indexes,1], marker='D', label='neighbors',color='r')\n",
    "\n",
    "plt.xlim((0,1000)) # x축간격을 y축과 동일하게 변경\n",
    "plt.xlabel('length')\n",
    "plt.ylabel('weight')\n",
    "plt.legend()\n",
    "plt.show()"
   ]
  },
  {
   "cell_type": "markdown",
   "metadata": {},
   "source": [
    "- 데이터 전처리: 평균 및 표준편차 계산(브로드 캐스팅) -> 표준점수"
   ]
  },
  {
   "cell_type": "code",
   "execution_count": 122,
   "metadata": {},
   "outputs": [
    {
     "name": "stdout",
     "output_type": "stream",
     "text": [
      "length_mean weight_mean: [ 27.29722222 454.09722222]\n",
      "length_std weight_std: [  9.98244253 323.29893931]\n",
      "train data 표준점수 :\n",
      " [[ 0.24070039  0.14198246]\n",
      " [-1.51237757 -1.36683783]\n",
      " [ 0.5712808   0.76060496]]\n",
      "new sample 표준점수: [-0.23012627 -0.94060693]\n"
     ]
    },
    {
     "data": {
      "image/png": "[encoded data removed]",
      "text/plain": [
       "<Figure size 432x288 with 1 Axes>"
      ]
     },
     "metadata": {
      "needs_background": "light"
     },
     "output_type": "display_data"
    },
    {
     "name": "stdout",
     "output_type": "stream",
     "text": [
      "성능확인: 1.0\n",
      "예측: [1.]\n",
      "-----------------------------\n",
      "이웃 distances: [[0.2873737  0.7711188  0.89552179 0.91493515 0.95427626]]\n",
      "이웃 indexes: [[21 14 34 32  5]]\n"
     ]
    },
    {
     "data": {
      "image/png": "[encoded data removed]",
      "text/plain": [
       "<Figure size 432x288 with 1 Axes>"
      ]
     },
     "metadata": {
      "needs_background": "light"
     },
     "output_type": "display_data"
    }
   ],
   "source": [
    "# 평균, 표준편차 구하기\n",
    "mean = np.mean(train_input, axis=0) # axis=0 : 각 컬럼의 평균 계산\n",
    "std = np.std(train_input, axis=0)\n",
    "print('length_mean weight_mean:',mean)\n",
    "print('length_std weight_std:',std)\n",
    "\n",
    "# 표준점수 구하기: (특성값 - 평균 / 표준편차)\n",
    "train_scaled = (train_input - mean) / std\n",
    "print('train data 표준점수 :\\n',train_scaled[:3])\n",
    "\n",
    "# 표준점수로 데이터 분포 확인: 산점도\n",
    "new = ([25,150] - mean) /std\n",
    "print('new sample 표준점수:', new)\n",
    "plt.scatter(train_scaled[:,0], train_scaled[:,1],label='train_scaled')\n",
    "plt.scatter(new[0],new[1], marker='^',label='unknown')\n",
    "plt.xlabel('length')\n",
    "plt.ylabel('weight')\n",
    "plt.legend()\n",
    "plt.show()\n",
    "\n",
    "# 표준점수 환산 후 knn model 훈련\n",
    "kn.fit(train_scaled, train_target)\n",
    "\n",
    "# test셋을 표준점수로 변환\n",
    "test_scaled = (test_input - mean) / std\n",
    "score = kn.score(test_scaled, test_target)\n",
    "print('성능확인:',score)\n",
    "\n",
    "# 표준점수로 예측\n",
    "pred = kn.predict([new])\n",
    "print('예측:', pred)\n",
    "\n",
    "# 최종 이웃찾기 및 산점도\n",
    "distances, indexes = kn.kneighbors([new])\n",
    "print('-----------------------------')\n",
    "print('이웃 distances:',distances)\n",
    "print('이웃 indexes:',indexes)\n",
    "\n",
    "plt.scatter(train_scaled[:,0],train_scaled[:,1],label='train_scaled')\n",
    "plt.scatter(new[0],new[1],label='sample')\n",
    "plt.scatter(train_scaled[indexes,0],train_scaled[indexes,1],label='neighbors')\n",
    "plt.xlabel('length')\n",
    "plt.ylabel('weight')\n",
    "plt.legend()\n",
    "plt.show()"
   ]
  },
  {
   "cell_type": "code",
   "execution_count": null,
   "metadata": {},
   "outputs": [],
   "source": []
  }
 ],
 "metadata": {
  "kernelspec": {
   "display_name": "Python 3.10.5 ('base')",
   "language": "python",
   "name": "python3"
  },
  "language_info": {
   "codemirror_mode": {
    "name": "ipython",
    "version": 3
   },
   "file_extension": ".py",
   "mimetype": "text/x-python",
   "name": "python",
   "nbconvert_exporter": "python",
   "pygments_lexer": "ipython3",
   "version": "3.10.5"
  },
  "orig_nbformat": 4,
  "vscode": {
   "interpreter": {
    "hash": "d4d1e4263499bec80672ea0156c357c1ee493ec2b1c70f0acce89fc37c4a6abe"
   }
  }
 },
 "nbformat": 4,
 "nbformat_minor": 2
}
