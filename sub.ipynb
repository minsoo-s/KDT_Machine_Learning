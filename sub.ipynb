{
 "cells": [
  {
   "cell_type": "code",
   "execution_count": null,
   "metadata": {},
   "outputs": [],
   "source": [
    "# # target이 없는 test파일로 target 확률 계산 \n",
    "\n",
    "# str_cols = test.columns[test.dtypes == object].tolist()\n",
    "\n",
    "# for col in str_cols:\n",
    "# #col = str(col)\n",
    "#     encoder = LabelEncoder()\n",
    "#     encoder.fit(test[col])\n",
    "#     labels = encoder.transform(test[col]) # 숫자 라벨 생성\n",
    "#     test[col] = labels\n",
    "    \n",
    "# # 스케일링-------------------------------------------------------------------\n",
    "# std_scaler = StandardScaler()\n",
    "# std_scaler.fit(test)\n",
    "# test = std_scaler.transform(test)\n",
    "\n",
    "# model_RF.predict_proba(test)"
   ]
  },
  {
   "cell_type": "code",
   "execution_count": null,
   "metadata": {},
   "outputs": [],
   "source": [
    "# # 제출용 SUBMISSION 생성\n",
    "# a = pd.DataFrame(model_RF.predict_proba(test))\n",
    "\n",
    "# sub = pd.read_csv('./creditcard/sample_submission.csv')\n",
    "# sub = sub.drop(columns=['0','1','2'])\n",
    "\n",
    "# pd.concat([sub,a],axis=1).to_csv('creditcard_0908(1).csv',index=False)"
   ]
  }
 ],
 "metadata": {
  "kernelspec": {
   "display_name": "Python 3.10.4 64-bit",
   "language": "python",
   "name": "python3"
  },
  "language_info": {
   "name": "python",
   "version": "3.10.4"
  },
  "orig_nbformat": 4,
  "vscode": {
   "interpreter": {
    "hash": "916dbcbb3f70747c44a77c7bcd40155683ae19c65e1c03b4aa3499c5328201f1"
   }
  }
 },
 "nbformat": 4,
 "nbformat_minor": 2
}
