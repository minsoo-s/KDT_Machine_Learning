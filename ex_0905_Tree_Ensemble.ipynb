{
 "cells": [
  {
   "cell_type": "markdown",
   "metadata": {},
   "source": [
    "## 2022.09.05.(월)\n",
    "## 결정트리(Decision Tree)\n",
    "---\n",
    "- 직관적이고 쉬운 모델 방식\n",
    "- 스무고개 퀴즈 형식\n",
    "- 과적합의 발생으로 다른 모델 대비 성능이 좋지 않은 모델\n",
    "- 단독으로 사용되는 경우보다 여러개의 DT가 모여서 사용됨 ==> 앙상블"
   ]
  },
  {
   "cell_type": "code",
   "execution_count": 124,
   "metadata": {},
   "outputs": [],
   "source": [
    "# 모듈 로딩\n",
    "from sklearn.datasets import load_breast_cancer\n",
    "from sklearn.model_selection import train_test_split\n",
    "from sklearn.tree import DecisionTreeClassifier\n",
    "from sklearn.tree import plot_tree # 트리 시각화 함수\n",
    "import pandas as pd\n",
    "import numpy as np\n",
    "import matplotlib.pyplot as plt"
   ]
  },
  {
   "cell_type": "markdown",
   "metadata": {},
   "source": [
    "##### [1] 데이터 로딩 "
   ]
  },
  {
   "cell_type": "code",
   "execution_count": 125,
   "metadata": {},
   "outputs": [
    {
     "name": "stdout",
     "output_type": "stream",
     "text": [
      "['mean radius' 'mean texture' 'mean perimeter' 'mean area'\n",
      " 'mean smoothness' 'mean compactness' 'mean concavity'\n",
      " 'mean concave points' 'mean symmetry' 'mean fractal dimension'\n",
      " 'radius error' 'texture error' 'perimeter error' 'area error'\n",
      " 'smoothness error' 'compactness error' 'concavity error'\n",
      " 'concave points error' 'symmetry error' 'fractal dimension error'\n",
      " 'worst radius' 'worst texture' 'worst perimeter' 'worst area'\n",
      " 'worst smoothness' 'worst compactness' 'worst concavity'\n",
      " 'worst concave points' 'worst symmetry' 'worst fractal dimension']\n"
     ]
    }
   ],
   "source": [
    "# feature name 따로 빼두기 -> 트리 plot 그릴 때 feature명을 주기 위함.\n",
    "data_bunch = load_breast_cancer()\n",
    "print(data_bunch.feature_names)\n",
    "f_names = data_bunch.feature_names"
   ]
  },
  {
   "cell_type": "code",
   "execution_count": 126,
   "metadata": {},
   "outputs": [
    {
     "name": "stdout",
     "output_type": "stream",
     "text": [
      "<class 'pandas.core.frame.DataFrame'>\n",
      "RangeIndex: 569 entries, 0 to 568\n",
      "Data columns (total 30 columns):\n",
      " #   Column                   Non-Null Count  Dtype  \n",
      "---  ------                   --------------  -----  \n",
      " 0   mean radius              569 non-null    float64\n",
      " 1   mean texture             569 non-null    float64\n",
      " 2   mean perimeter           569 non-null    float64\n",
      " 3   mean area                569 non-null    float64\n",
      " 4   mean smoothness          569 non-null    float64\n",
      " 5   mean compactness         569 non-null    float64\n",
      " 6   mean concavity           569 non-null    float64\n",
      " 7   mean concave points      569 non-null    float64\n",
      " 8   mean symmetry            569 non-null    float64\n",
      " 9   mean fractal dimension   569 non-null    float64\n",
      " 10  radius error             569 non-null    float64\n",
      " 11  texture error            569 non-null    float64\n",
      " 12  perimeter error          569 non-null    float64\n",
      " 13  area error               569 non-null    float64\n",
      " 14  smoothness error         569 non-null    float64\n",
      " 15  compactness error        569 non-null    float64\n",
      " 16  concavity error          569 non-null    float64\n",
      " 17  concave points error     569 non-null    float64\n",
      " 18  symmetry error           569 non-null    float64\n",
      " 19  fractal dimension error  569 non-null    float64\n",
      " 20  worst radius             569 non-null    float64\n",
      " 21  worst texture            569 non-null    float64\n",
      " 22  worst perimeter          569 non-null    float64\n",
      " 23  worst area               569 non-null    float64\n",
      " 24  worst smoothness         569 non-null    float64\n",
      " 25  worst compactness        569 non-null    float64\n",
      " 26  worst concavity          569 non-null    float64\n",
      " 27  worst concave points     569 non-null    float64\n",
      " 28  worst symmetry           569 non-null    float64\n",
      " 29  worst fractal dimension  569 non-null    float64\n",
      "dtypes: float64(30)\n",
      "memory usage: 133.5 KB\n",
      "<class 'pandas.core.series.Series'>\n",
      "RangeIndex: 569 entries, 0 to 568\n",
      "Series name: target\n",
      "Non-Null Count  Dtype\n",
      "--------------  -----\n",
      "569 non-null    int64\n",
      "dtypes: int64(1)\n",
      "memory usage: 4.6 KB\n"
     ]
    },
    {
     "data": {
      "text/plain": [
       "(None, None)"
      ]
     },
     "execution_count": 126,
     "metadata": {},
     "output_type": "execute_result"
    }
   ],
   "source": [
    "# DataFrame형태로 가져오기 (return_X_y= True, as_frame=True)\n",
    "data_X, data_y = load_breast_cancer(return_X_y= True, as_frame=True)\n",
    "#f_names = data.feature\n",
    "data_X.info() , data_y.info()\n",
    "\n",
    "# Bunch 타입으로 가져오기 => data, feature..."
   ]
  },
  {
   "cell_type": "code",
   "execution_count": 127,
   "metadata": {},
   "outputs": [
    {
     "data": {
      "text/plain": [
       "mean radius                0\n",
       "mean texture               0\n",
       "mean perimeter             0\n",
       "mean area                  0\n",
       "mean smoothness            0\n",
       "mean compactness           0\n",
       "mean concavity             0\n",
       "mean concave points        0\n",
       "mean symmetry              0\n",
       "mean fractal dimension     0\n",
       "radius error               0\n",
       "texture error              0\n",
       "perimeter error            0\n",
       "area error                 0\n",
       "smoothness error           0\n",
       "compactness error          0\n",
       "concavity error            0\n",
       "concave points error       0\n",
       "symmetry error             0\n",
       "fractal dimension error    0\n",
       "worst radius               0\n",
       "worst texture              0\n",
       "worst perimeter            0\n",
       "worst area                 0\n",
       "worst smoothness           0\n",
       "worst compactness          0\n",
       "worst concavity            0\n",
       "worst concave points       0\n",
       "worst symmetry             0\n",
       "worst fractal dimension    0\n",
       "dtype: int64"
      ]
     },
     "execution_count": 127,
     "metadata": {},
     "output_type": "execute_result"
    }
   ],
   "source": [
    "# 결측치 확인\n",
    "data_X.isnull().sum()"
   ]
  },
  {
   "cell_type": "code",
   "execution_count": 128,
   "metadata": {},
   "outputs": [
    {
     "name": "stdout",
     "output_type": "stream",
     "text": [
      "<class 'pandas.core.frame.DataFrame'>\n",
      "<class 'pandas.core.series.Series'>\n",
      "<class 'numpy.ndarray'>\n",
      "<class 'numpy.ndarray'>\n"
     ]
    }
   ],
   "source": [
    "# 배열로 변환\n",
    "print(type(data_X))\n",
    "print(type(data_y))\n",
    "\n",
    "data_X = data_X.to_numpy()\n",
    "data_y = data_y.to_numpy()\n",
    "\n",
    "print(type(data_X))\n",
    "print(type(data_y))"
   ]
  },
  {
   "cell_type": "markdown",
   "metadata": {},
   "source": [
    "##### [2] 훈련, 테스트 데이터 분리"
   ]
  },
  {
   "cell_type": "code",
   "execution_count": 129,
   "metadata": {},
   "outputs": [],
   "source": [
    "# stratify = 라벨, 즉 타겟 데이터 지정: 학습~테스트 데이터에도 비율 맞추기\n",
    "\n",
    "train_input, test_input, train_target, test_target = train_test_split(data_X, data_y,stratify= data_y, random_state = 42 )"
   ]
  },
  {
   "cell_type": "code",
   "execution_count": 130,
   "metadata": {},
   "outputs": [
    {
     "data": {
      "text/html": [
       "<style>#sk-container-id-6 {color: black;background-color: white;}#sk-container-id-6 pre{padding: 0;}#sk-container-id-6 div.sk-toggleable {background-color: white;}#sk-container-id-6 label.sk-toggleable__label {cursor: pointer;display: block;width: 100%;margin-bottom: 0;padding: 0.3em;box-sizing: border-box;text-align: center;}#sk-container-id-6 label.sk-toggleable__label-arrow:before {content: \"▸\";float: left;margin-right: 0.25em;color: #696969;}#sk-container-id-6 label.sk-toggleable__label-arrow:hover:before {color: black;}#sk-container-id-6 div.sk-estimator:hover label.sk-toggleable__label-arrow:before {color: black;}#sk-container-id-6 div.sk-toggleable__content {max-height: 0;max-width: 0;overflow: hidden;text-align: left;background-color: #f0f8ff;}#sk-container-id-6 div.sk-toggleable__content pre {margin: 0.2em;color: black;border-radius: 0.25em;background-color: #f0f8ff;}#sk-container-id-6 input.sk-toggleable__control:checked~div.sk-toggleable__content {max-height: 200px;max-width: 100%;overflow: auto;}#sk-container-id-6 input.sk-toggleable__control:checked~label.sk-toggleable__label-arrow:before {content: \"▾\";}#sk-container-id-6 div.sk-estimator input.sk-toggleable__control:checked~label.sk-toggleable__label {background-color: #d4ebff;}#sk-container-id-6 div.sk-label input.sk-toggleable__control:checked~label.sk-toggleable__label {background-color: #d4ebff;}#sk-container-id-6 input.sk-hidden--visually {border: 0;clip: rect(1px 1px 1px 1px);clip: rect(1px, 1px, 1px, 1px);height: 1px;margin: -1px;overflow: hidden;padding: 0;position: absolute;width: 1px;}#sk-container-id-6 div.sk-estimator {font-family: monospace;background-color: #f0f8ff;border: 1px dotted black;border-radius: 0.25em;box-sizing: border-box;margin-bottom: 0.5em;}#sk-container-id-6 div.sk-estimator:hover {background-color: #d4ebff;}#sk-container-id-6 div.sk-parallel-item::after {content: \"\";width: 100%;border-bottom: 1px solid gray;flex-grow: 1;}#sk-container-id-6 div.sk-label:hover label.sk-toggleable__label {background-color: #d4ebff;}#sk-container-id-6 div.sk-serial::before {content: \"\";position: absolute;border-left: 1px solid gray;box-sizing: border-box;top: 0;bottom: 0;left: 50%;z-index: 0;}#sk-container-id-6 div.sk-serial {display: flex;flex-direction: column;align-items: center;background-color: white;padding-right: 0.2em;padding-left: 0.2em;position: relative;}#sk-container-id-6 div.sk-item {position: relative;z-index: 1;}#sk-container-id-6 div.sk-parallel {display: flex;align-items: stretch;justify-content: center;background-color: white;position: relative;}#sk-container-id-6 div.sk-item::before, #sk-container-id-6 div.sk-parallel-item::before {content: \"\";position: absolute;border-left: 1px solid gray;box-sizing: border-box;top: 0;bottom: 0;left: 50%;z-index: -1;}#sk-container-id-6 div.sk-parallel-item {display: flex;flex-direction: column;z-index: 1;position: relative;background-color: white;}#sk-container-id-6 div.sk-parallel-item:first-child::after {align-self: flex-end;width: 50%;}#sk-container-id-6 div.sk-parallel-item:last-child::after {align-self: flex-start;width: 50%;}#sk-container-id-6 div.sk-parallel-item:only-child::after {width: 0;}#sk-container-id-6 div.sk-dashed-wrapped {border: 1px dashed gray;margin: 0 0.4em 0.5em 0.4em;box-sizing: border-box;padding-bottom: 0.4em;background-color: white;}#sk-container-id-6 div.sk-label label {font-family: monospace;font-weight: bold;display: inline-block;line-height: 1.2em;}#sk-container-id-6 div.sk-label-container {text-align: center;}#sk-container-id-6 div.sk-container {/* jupyter's `normalize.less` sets `[hidden] { display: none; }` but bootstrap.min.css set `[hidden] { display: none !important; }` so we also need the `!important` here to be able to override the default hidden behavior on the sphinx rendered scikit-learn.org. See: https://github.com/scikit-learn/scikit-learn/issues/21755 */display: inline-block !important;position: relative;}#sk-container-id-6 div.sk-text-repr-fallback {display: none;}</style><div id=\"sk-container-id-6\" class=\"sk-top-container\"><div class=\"sk-text-repr-fallback\"><pre>DecisionTreeClassifier()</pre><b>In a Jupyter environment, please rerun this cell to show the HTML representation or trust the notebook. <br />On GitHub, the HTML representation is unable to render, please try loading this page with nbviewer.org.</b></div><div class=\"sk-container\" hidden><div class=\"sk-item\"><div class=\"sk-estimator sk-toggleable\"><input class=\"sk-toggleable__control sk-hidden--visually\" id=\"sk-estimator-id-6\" type=\"checkbox\" checked><label for=\"sk-estimator-id-6\" class=\"sk-toggleable__label sk-toggleable__label-arrow\">DecisionTreeClassifier</label><div class=\"sk-toggleable__content\"><pre>DecisionTreeClassifier()</pre></div></div></div></div></div>"
      ],
      "text/plain": [
       "DecisionTreeClassifier()"
      ]
     },
     "execution_count": 130,
     "metadata": {},
     "output_type": "execute_result"
    }
   ],
   "source": [
    "# 모델 학습\n",
    "dtModel = DecisionTreeClassifier()\n",
    "dtModel.fit(train_input,train_target)"
   ]
  },
  {
   "cell_type": "code",
   "execution_count": 131,
   "metadata": {},
   "outputs": [
    {
     "name": "stdout",
     "output_type": "stream",
     "text": [
      "train데이터:  1.0\n",
      "test데이터 :  0.9230769230769231\n"
     ]
    }
   ],
   "source": [
    "# Score 비교\n",
    "print('train데이터: ',dtModel.score(train_input,train_target))\n",
    "print('test데이터 : ',dtModel.score(test_input,test_target))"
   ]
  },
  {
   "cell_type": "code",
   "execution_count": 132,
   "metadata": {},
   "outputs": [
    {
     "data": {
      "text/plain": [
       "array([[1.275e+01, 1.670e+01, 8.251e+01, ..., 8.045e-02, 3.071e-01,\n",
       "        8.557e-02],\n",
       "       [1.799e+01, 2.066e+01, 1.178e+02, ..., 1.974e-01, 3.060e-01,\n",
       "        8.503e-02],\n",
       "       [1.496e+01, 1.910e+01, 9.703e+01, ..., 1.489e-01, 2.962e-01,\n",
       "        8.472e-02],\n",
       "       ...,\n",
       "       [1.170e+01, 1.911e+01, 7.433e+01, ..., 5.741e-02, 3.487e-01,\n",
       "        6.958e-02],\n",
       "       [1.450e+01, 1.089e+01, 9.428e+01, ..., 1.221e-01, 2.889e-01,\n",
       "        8.006e-02],\n",
       "       [1.218e+01, 1.784e+01, 7.779e+01, ..., 5.882e-02, 2.227e-01,\n",
       "        7.376e-02]])"
      ]
     },
     "execution_count": 132,
     "metadata": {},
     "output_type": "execute_result"
    }
   ],
   "source": [
    "test_input"
   ]
  },
  {
   "cell_type": "code",
   "execution_count": 133,
   "metadata": {},
   "outputs": [
    {
     "data": {
      "text/plain": [
       "array([1, 0, 0, 1, 1, 0, 0, 0, 0, 1, 1, 1, 0, 0, 1, 1, 0, 0, 1, 1, 0, 0,\n",
       "       1, 1, 1, 1, 1, 1, 1, 0, 1, 1, 1, 1, 1, 1, 0, 1, 0, 1, 0, 1, 0, 1,\n",
       "       0, 1, 0, 1, 0, 1, 1, 1, 1, 0, 1, 1, 1, 0, 0, 0, 1, 0, 0, 0, 1, 1,\n",
       "       0, 0, 1, 1, 1, 1, 1, 1, 1, 0, 0, 0, 0, 1, 1, 1, 1, 1, 0, 1, 0, 1,\n",
       "       0, 1, 1, 0, 1, 1, 1, 0, 0, 1, 0, 1, 0, 0, 0, 1, 1, 0, 1, 1, 0, 1,\n",
       "       0, 1, 1, 0, 1, 0, 1, 1, 1, 0, 1, 0, 0, 1, 0, 1, 1, 0, 0, 1, 1, 1,\n",
       "       1, 0, 0, 1, 1, 1, 1, 1, 1, 1, 1])"
      ]
     },
     "execution_count": 133,
     "metadata": {},
     "output_type": "execute_result"
    }
   ],
   "source": [
    "dtModel.predict(test_input)"
   ]
  },
  {
   "cell_type": "markdown",
   "metadata": {},
   "source": [
    "##### [3] 트리 시각화"
   ]
  },
  {
   "cell_type": "code",
   "execution_count": 134,
   "metadata": {},
   "outputs": [
    {
     "data": {
      "image/png": "[encoded data removed]",
      "text/plain": [
       "<Figure size 1728x864 with 1 Axes>"
      ]
     },
     "metadata": {
      "needs_background": "light"
     },
     "output_type": "display_data"
    }
   ],
   "source": [
    "# 트리 모델 시각화 \n",
    "plt.figure(figsize = (24,12))\n",
    "plot_tree(dtModel, max_depth=2, filled = True, feature_names=f_names) # 양성: B, 음성: R\n",
    "plt.show()\n"
   ]
  },
  {
   "cell_type": "markdown",
   "metadata": {},
   "source": [
    "## DT에서 속성 중요도 확인 \n",
    "---\n",
    "- DT에서 속서들 중에서 속성도 중요도르 감지 가능\n",
    "- Feature별로 특성들의 중요도 값\n",
    "- 총합: 1"
   ]
  },
  {
   "cell_type": "code",
   "execution_count": 135,
   "metadata": {},
   "outputs": [
    {
     "name": "stdout",
     "output_type": "stream",
     "text": [
      "[0.         0.01204155 0.00668975 0.         0.         0.\n",
      " 0.         0.01354675 0.         0.         0.         0.04630969\n",
      " 0.00975731 0.00983732 0.00238745 0.         0.         0.\n",
      " 0.         0.         0.69546322 0.04179055 0.         0.\n",
      " 0.         0.         0.01740312 0.1334007  0.01137258 0.        ]\n",
      "가장 중요한 속성:  20\n"
     ]
    }
   ],
   "source": [
    "print(dtModel.feature_importances_)\n",
    "print('가장 중요한 속성: ', dtModel.feature_importances_.argmax())"
   ]
  },
  {
   "cell_type": "code",
   "execution_count": 136,
   "metadata": {},
   "outputs": [
    {
     "name": "stdout",
     "output_type": "stream",
     "text": [
      "                         mean radius  mean texture  mean perimeter  mean area  \\\n",
      "mean radius                 1.000000      0.323782        0.997855   0.987357   \n",
      "mean texture                0.323782      1.000000        0.329533   0.321086   \n",
      "mean perimeter              0.997855      0.329533        1.000000   0.986507   \n",
      "mean area                   0.987357      0.321086        0.986507   1.000000   \n",
      "mean smoothness             0.170581     -0.023389        0.207278   0.177028   \n",
      "mean compactness            0.506124      0.236702        0.556936   0.498502   \n",
      "mean concavity              0.676764      0.302418        0.716136   0.685983   \n",
      "mean concave points         0.822529      0.293464        0.850977   0.823269   \n",
      "mean symmetry               0.147741      0.071401        0.183027   0.151293   \n",
      "mean fractal dimension     -0.311631     -0.076437       -0.261477  -0.283110   \n",
      "radius error                0.679090      0.275869        0.691765   0.732562   \n",
      "texture error              -0.097317      0.386358       -0.086761  -0.066280   \n",
      "perimeter error             0.674172      0.281673        0.693135   0.726628   \n",
      "area error                  0.735864      0.259845        0.744983   0.800086   \n",
      "smoothness error           -0.222600      0.006614       -0.202694  -0.166777   \n",
      "compactness error           0.206000      0.191975        0.250744   0.212583   \n",
      "concavity error             0.194204      0.143293        0.228082   0.207660   \n",
      "concave points error        0.376169      0.163851        0.407217   0.372320   \n",
      "symmetry error             -0.104321      0.009127       -0.081629  -0.072497   \n",
      "fractal dimension error    -0.042641      0.054458       -0.005523  -0.019887   \n",
      "worst radius                0.969539      0.352573        0.969476   0.962746   \n",
      "worst texture               0.297008      0.912045        0.303038   0.287489   \n",
      "worst perimeter             0.965137      0.358040        0.970387   0.959120   \n",
      "worst area                  0.941082      0.343546        0.941550   0.959213   \n",
      "worst smoothness            0.119616      0.077503        0.150549   0.123523   \n",
      "worst compactness           0.413463      0.277830        0.455774   0.390410   \n",
      "worst concavity             0.526911      0.301025        0.563879   0.512606   \n",
      "worst concave points        0.744214      0.295316        0.771241   0.722017   \n",
      "worst symmetry              0.163953      0.105008        0.189115   0.143570   \n",
      "worst fractal dimension     0.007066      0.119205        0.051019   0.003738   \n",
      "\n",
      "                         mean smoothness  mean compactness  mean concavity  \\\n",
      "mean radius                     0.170581          0.506124        0.676764   \n",
      "mean texture                   -0.023389          0.236702        0.302418   \n",
      "mean perimeter                  0.207278          0.556936        0.716136   \n",
      "mean area                       0.177028          0.498502        0.685983   \n",
      "mean smoothness                 1.000000          0.659123        0.521984   \n",
      "mean compactness                0.659123          1.000000        0.883121   \n",
      "mean concavity                  0.521984          0.883121        1.000000   \n",
      "mean concave points             0.553695          0.831135        0.921391   \n",
      "mean symmetry                   0.557775          0.602641        0.500667   \n",
      "mean fractal dimension          0.584792          0.565369        0.336783   \n",
      "radius error                    0.301467          0.497473        0.631925   \n",
      "texture error                   0.068406          0.046205        0.076218   \n",
      "perimeter error                 0.296092          0.548905        0.660391   \n",
      "area error                      0.246552          0.455653        0.617427   \n",
      "smoothness error                0.332375          0.135299        0.098564   \n",
      "compactness error               0.318943          0.738722        0.670279   \n",
      "concavity error                 0.248396          0.570517        0.691270   \n",
      "concave points error            0.380676          0.642262        0.683260   \n",
      "symmetry error                  0.200774          0.229977        0.178009   \n",
      "fractal dimension error         0.283607          0.507318        0.449301   \n",
      "worst radius                    0.213120          0.535315        0.688236   \n",
      "worst texture                   0.036072          0.248133        0.299879   \n",
      "worst perimeter                 0.238853          0.590210        0.729565   \n",
      "worst area                      0.206718          0.509604        0.675987   \n",
      "worst smoothness                0.805324          0.565541        0.448822   \n",
      "worst compactness               0.472468          0.865809        0.754968   \n",
      "worst concavity                 0.434926          0.816275        0.884103   \n",
      "worst concave points            0.503053          0.815573        0.861323   \n",
      "worst symmetry                  0.394309          0.510223        0.409464   \n",
      "worst fractal dimension         0.499316          0.687382        0.514930   \n",
      "\n",
      "                         mean concave points  mean symmetry  \\\n",
      "mean radius                         0.822529       0.147741   \n",
      "mean texture                        0.293464       0.071401   \n",
      "mean perimeter                      0.850977       0.183027   \n",
      "mean area                           0.823269       0.151293   \n",
      "mean smoothness                     0.553695       0.557775   \n",
      "mean compactness                    0.831135       0.602641   \n",
      "mean concavity                      0.921391       0.500667   \n",
      "mean concave points                 1.000000       0.462497   \n",
      "mean symmetry                       0.462497       1.000000   \n",
      "mean fractal dimension              0.166917       0.479921   \n",
      "radius error                        0.698050       0.303379   \n",
      "texture error                       0.021480       0.128053   \n",
      "perimeter error                     0.710650       0.313893   \n",
      "area error                          0.690299       0.223970   \n",
      "smoothness error                    0.027653       0.187321   \n",
      "compactness error                   0.490424       0.421659   \n",
      "concavity error                     0.439167       0.342627   \n",
      "concave points error                0.615634       0.393298   \n",
      "symmetry error                      0.095351       0.449137   \n",
      "fractal dimension error             0.257584       0.331786   \n",
      "worst radius                        0.830318       0.185728   \n",
      "worst texture                       0.292752       0.090651   \n",
      "worst perimeter                     0.855923       0.219169   \n",
      "worst area                          0.809630       0.177193   \n",
      "worst smoothness                    0.452753       0.426675   \n",
      "worst compactness                   0.667454       0.473200   \n",
      "worst concavity                     0.752399       0.433721   \n",
      "worst concave points                0.910155       0.430297   \n",
      "worst symmetry                      0.375744       0.699826   \n",
      "worst fractal dimension             0.368661       0.438413   \n",
      "\n",
      "                         mean fractal dimension  ...  worst radius  \\\n",
      "mean radius                           -0.311631  ...      0.969539   \n",
      "mean texture                          -0.076437  ...      0.352573   \n",
      "mean perimeter                        -0.261477  ...      0.969476   \n",
      "mean area                             -0.283110  ...      0.962746   \n",
      "mean smoothness                        0.584792  ...      0.213120   \n",
      "mean compactness                       0.565369  ...      0.535315   \n",
      "mean concavity                         0.336783  ...      0.688236   \n",
      "mean concave points                    0.166917  ...      0.830318   \n",
      "mean symmetry                          0.479921  ...      0.185728   \n",
      "mean fractal dimension                 1.000000  ...     -0.253691   \n",
      "radius error                           0.000111  ...      0.715065   \n",
      "texture error                          0.164174  ...     -0.111690   \n",
      "perimeter error                        0.039830  ...      0.697201   \n",
      "area error                            -0.090170  ...      0.757373   \n",
      "smoothness error                       0.401964  ...     -0.230691   \n",
      "compactness error                      0.559837  ...      0.204607   \n",
      "concavity error                        0.446630  ...      0.186904   \n",
      "concave points error                   0.341198  ...      0.358127   \n",
      "symmetry error                         0.345007  ...     -0.128121   \n",
      "fractal dimension error                0.688132  ...     -0.037488   \n",
      "worst radius                          -0.253691  ...      1.000000   \n",
      "worst texture                         -0.051269  ...      0.359921   \n",
      "worst perimeter                       -0.205151  ...      0.993708   \n",
      "worst area                            -0.231854  ...      0.984015   \n",
      "worst smoothness                       0.504942  ...      0.216574   \n",
      "worst compactness                      0.458798  ...      0.475820   \n",
      "worst concavity                        0.346234  ...      0.573975   \n",
      "worst concave points                   0.175325  ...      0.787424   \n",
      "worst symmetry                         0.334019  ...      0.243529   \n",
      "worst fractal dimension                0.767297  ...      0.093492   \n",
      "\n",
      "                         worst texture  worst perimeter  worst area  \\\n",
      "mean radius                   0.297008         0.965137    0.941082   \n",
      "mean texture                  0.912045         0.358040    0.343546   \n",
      "mean perimeter                0.303038         0.970387    0.941550   \n",
      "mean area                     0.287489         0.959120    0.959213   \n",
      "mean smoothness               0.036072         0.238853    0.206718   \n",
      "mean compactness              0.248133         0.590210    0.509604   \n",
      "mean concavity                0.299879         0.729565    0.675987   \n",
      "mean concave points           0.292752         0.855923    0.809630   \n",
      "mean symmetry                 0.090651         0.219169    0.177193   \n",
      "mean fractal dimension       -0.051269        -0.205151   -0.231854   \n",
      "radius error                  0.194799         0.719684    0.751548   \n",
      "texture error                 0.409003        -0.102242   -0.083195   \n",
      "perimeter error               0.200371         0.721031    0.730713   \n",
      "area error                    0.196497         0.761213    0.811408   \n",
      "smoothness error             -0.074743        -0.217304   -0.182195   \n",
      "compactness error             0.143003         0.260516    0.199371   \n",
      "concavity error               0.100241         0.226680    0.188353   \n",
      "concave points error          0.086741         0.394999    0.342271   \n",
      "symmetry error               -0.077473        -0.103753   -0.110343   \n",
      "fractal dimension error      -0.003195        -0.001000   -0.022736   \n",
      "worst radius                  0.359921         0.993708    0.984015   \n",
      "worst texture                 1.000000         0.365098    0.345842   \n",
      "worst perimeter               0.365098         1.000000    0.977578   \n",
      "worst area                    0.345842         0.977578    1.000000   \n",
      "worst smoothness              0.225429         0.236775    0.209145   \n",
      "worst compactness             0.360832         0.529408    0.438296   \n",
      "worst concavity               0.368366         0.618344    0.543331   \n",
      "worst concave points          0.359755         0.816322    0.747419   \n",
      "worst symmetry                0.233027         0.269493    0.209146   \n",
      "worst fractal dimension       0.219122         0.138957    0.079647   \n",
      "\n",
      "                         worst smoothness  worst compactness  worst concavity  \\\n",
      "mean radius                      0.119616           0.413463         0.526911   \n",
      "mean texture                     0.077503           0.277830         0.301025   \n",
      "mean perimeter                   0.150549           0.455774         0.563879   \n",
      "mean area                        0.123523           0.390410         0.512606   \n",
      "mean smoothness                  0.805324           0.472468         0.434926   \n",
      "mean compactness                 0.565541           0.865809         0.816275   \n",
      "mean concavity                   0.448822           0.754968         0.884103   \n",
      "mean concave points              0.452753           0.667454         0.752399   \n",
      "mean symmetry                    0.426675           0.473200         0.433721   \n",
      "mean fractal dimension           0.504942           0.458798         0.346234   \n",
      "radius error                     0.141919           0.287103         0.380585   \n",
      "texture error                   -0.073658          -0.092439        -0.068956   \n",
      "perimeter error                  0.130054           0.341919         0.418899   \n",
      "area error                       0.125389           0.283257         0.385100   \n",
      "smoothness error                 0.314457          -0.055558        -0.058298   \n",
      "compactness error                0.227394           0.678780         0.639147   \n",
      "concavity error                  0.168481           0.484858         0.662564   \n",
      "concave points error             0.215351           0.452888         0.549592   \n",
      "symmetry error                  -0.012662           0.060255         0.037119   \n",
      "fractal dimension error          0.170568           0.390159         0.379975   \n",
      "worst radius                     0.216574           0.475820         0.573975   \n",
      "worst texture                    0.225429           0.360832         0.368366   \n",
      "worst perimeter                  0.236775           0.529408         0.618344   \n",
      "worst area                       0.209145           0.438296         0.543331   \n",
      "worst smoothness                 1.000000           0.568187         0.518523   \n",
      "worst compactness                0.568187           1.000000         0.892261   \n",
      "worst concavity                  0.518523           0.892261         1.000000   \n",
      "worst concave points             0.547691           0.801080         0.855434   \n",
      "worst symmetry                   0.493838           0.614441         0.532520   \n",
      "worst fractal dimension          0.617624           0.810455         0.686511   \n",
      "\n",
      "                         worst concave points  worst symmetry  \\\n",
      "mean radius                          0.744214        0.163953   \n",
      "mean texture                         0.295316        0.105008   \n",
      "mean perimeter                       0.771241        0.189115   \n",
      "mean area                            0.722017        0.143570   \n",
      "mean smoothness                      0.503053        0.394309   \n",
      "mean compactness                     0.815573        0.510223   \n",
      "mean concavity                       0.861323        0.409464   \n",
      "mean concave points                  0.910155        0.375744   \n",
      "mean symmetry                        0.430297        0.699826   \n",
      "mean fractal dimension               0.175325        0.334019   \n",
      "radius error                         0.531062        0.094543   \n",
      "texture error                       -0.119638       -0.128215   \n",
      "perimeter error                      0.554897        0.109930   \n",
      "area error                           0.538166        0.074126   \n",
      "smoothness error                    -0.102007       -0.107342   \n",
      "compactness error                    0.483208        0.277878   \n",
      "concavity error                      0.440472        0.197788   \n",
      "concave points error                 0.602450        0.143116   \n",
      "symmetry error                      -0.030413        0.389402   \n",
      "fractal dimension error              0.215204        0.111094   \n",
      "worst radius                         0.787424        0.243529   \n",
      "worst texture                        0.359755        0.233027   \n",
      "worst perimeter                      0.816322        0.269493   \n",
      "worst area                           0.747419        0.209146   \n",
      "worst smoothness                     0.547691        0.493838   \n",
      "worst compactness                    0.801080        0.614441   \n",
      "worst concavity                      0.855434        0.532520   \n",
      "worst concave points                 1.000000        0.502528   \n",
      "worst symmetry                       0.502528        1.000000   \n",
      "worst fractal dimension              0.511114        0.537848   \n",
      "\n",
      "                         worst fractal dimension  \n",
      "mean radius                             0.007066  \n",
      "mean texture                            0.119205  \n",
      "mean perimeter                          0.051019  \n",
      "mean area                               0.003738  \n",
      "mean smoothness                         0.499316  \n",
      "mean compactness                        0.687382  \n",
      "mean concavity                          0.514930  \n",
      "mean concave points                     0.368661  \n",
      "mean symmetry                           0.438413  \n",
      "mean fractal dimension                  0.767297  \n",
      "radius error                            0.049559  \n",
      "texture error                          -0.045655  \n",
      "perimeter error                         0.085433  \n",
      "area error                              0.017539  \n",
      "smoothness error                        0.101480  \n",
      "compactness error                       0.590973  \n",
      "concavity error                         0.439329  \n",
      "concave points error                    0.310655  \n",
      "symmetry error                          0.078079  \n",
      "fractal dimension error                 0.591328  \n",
      "worst radius                            0.093492  \n",
      "worst texture                           0.219122  \n",
      "worst perimeter                         0.138957  \n",
      "worst area                              0.079647  \n",
      "worst smoothness                        0.617624  \n",
      "worst compactness                       0.810455  \n",
      "worst concavity                         0.686511  \n",
      "worst concave points                    0.511114  \n",
      "worst symmetry                          0.537848  \n",
      "worst fractal dimension                 1.000000  \n",
      "\n",
      "[30 rows x 30 columns]\n"
     ]
    }
   ],
   "source": [
    "# 요소별 상관관계 파악하기\n",
    "df = pd.DataFrame(data_bunch.data, columns = data_bunch.feature_names)\n",
    "print(df.corr())"
   ]
  },
  {
   "cell_type": "code",
   "execution_count": 137,
   "metadata": {},
   "outputs": [
    {
     "name": "stdout",
     "output_type": "stream",
     "text": [
      "훈련세트 정확도  : 1.000\n",
      "테스트세트 정확도: 0.958\n"
     ]
    }
   ],
   "source": [
    "# 랜덤포레스트 \n",
    "from sklearn.ensemble import RandomForestClassifier\n",
    "forest = RandomForestClassifier(n_estimators=100,random_state=0)\n",
    "forest.fit(train_input,train_target)\n",
    "\n",
    "print(\"훈련세트 정확도  : {:.3f}\".format(forest.score(train_input,train_target)))\n",
    "print(\"테스트세트 정확도: {:.3f}\".format(forest.score(test_input,test_target)))\n"
   ]
  },
  {
   "cell_type": "code",
   "execution_count": 138,
   "metadata": {},
   "outputs": [],
   "source": [
    "### RandomForest 학습 모델\n"
   ]
  },
  {
   "cell_type": "markdown",
   "metadata": {},
   "source": [
    "## 앙상블(ENSEMBLE)\n",
    "---\n",
    "1. 보팅\n",
    "- 동일 훈련데이털로 여러 알고리즘의 여러 모델 병렬 학습\n",
    "    - 직접 투표 방식: 예측값들의 다수로 결정\n",
    "    - 간접 투표 방식: 확률값들의 평균값으로 결정\n",
    "\n",
    "2. 배깅\n",
    "- 중복 허용 랜덤 샘플링으로 학습 데이터 부족 해결\n",
    "- 중복 샘플링 데이터와 동일 알고리즘의 여러 모델 병렬 학습\n",
    "\n",
    "3. 페이스팅\n",
    "- 중복 불허 샘플링 데이터와 동일 알고리즘 여러 모델 병렬 학습\n",
    "\n",
    "4. 랜덤포레스트\n",
    "- 결정 트리 여러 개를 랜덤으로 만들어 예측값들을 사용\n",
    "    - 분류 : RandomForestClassifier\n",
    "    - 회귀 : RandomForestRegressor\n"
   ]
  },
  {
   "cell_type": "markdown",
   "metadata": {},
   "source": [
    "## RandomForest 학습 모델\n",
    "---\n",
    "- 100개 DecisionTree 모델\n",
    "- 중복허용된 랜덤샘플 데이터 + DecisionTree 모델"
   ]
  },
  {
   "cell_type": "code",
   "execution_count": 139,
   "metadata": {},
   "outputs": [
    {
     "data": {
      "text/html": [
       "<style>#sk-container-id-7 {color: black;background-color: white;}#sk-container-id-7 pre{padding: 0;}#sk-container-id-7 div.sk-toggleable {background-color: white;}#sk-container-id-7 label.sk-toggleable__label {cursor: pointer;display: block;width: 100%;margin-bottom: 0;padding: 0.3em;box-sizing: border-box;text-align: center;}#sk-container-id-7 label.sk-toggleable__label-arrow:before {content: \"▸\";float: left;margin-right: 0.25em;color: #696969;}#sk-container-id-7 label.sk-toggleable__label-arrow:hover:before {color: black;}#sk-container-id-7 div.sk-estimator:hover label.sk-toggleable__label-arrow:before {color: black;}#sk-container-id-7 div.sk-toggleable__content {max-height: 0;max-width: 0;overflow: hidden;text-align: left;background-color: #f0f8ff;}#sk-container-id-7 div.sk-toggleable__content pre {margin: 0.2em;color: black;border-radius: 0.25em;background-color: #f0f8ff;}#sk-container-id-7 input.sk-toggleable__control:checked~div.sk-toggleable__content {max-height: 200px;max-width: 100%;overflow: auto;}#sk-container-id-7 input.sk-toggleable__control:checked~label.sk-toggleable__label-arrow:before {content: \"▾\";}#sk-container-id-7 div.sk-estimator input.sk-toggleable__control:checked~label.sk-toggleable__label {background-color: #d4ebff;}#sk-container-id-7 div.sk-label input.sk-toggleable__control:checked~label.sk-toggleable__label {background-color: #d4ebff;}#sk-container-id-7 input.sk-hidden--visually {border: 0;clip: rect(1px 1px 1px 1px);clip: rect(1px, 1px, 1px, 1px);height: 1px;margin: -1px;overflow: hidden;padding: 0;position: absolute;width: 1px;}#sk-container-id-7 div.sk-estimator {font-family: monospace;background-color: #f0f8ff;border: 1px dotted black;border-radius: 0.25em;box-sizing: border-box;margin-bottom: 0.5em;}#sk-container-id-7 div.sk-estimator:hover {background-color: #d4ebff;}#sk-container-id-7 div.sk-parallel-item::after {content: \"\";width: 100%;border-bottom: 1px solid gray;flex-grow: 1;}#sk-container-id-7 div.sk-label:hover label.sk-toggleable__label {background-color: #d4ebff;}#sk-container-id-7 div.sk-serial::before {content: \"\";position: absolute;border-left: 1px solid gray;box-sizing: border-box;top: 0;bottom: 0;left: 50%;z-index: 0;}#sk-container-id-7 div.sk-serial {display: flex;flex-direction: column;align-items: center;background-color: white;padding-right: 0.2em;padding-left: 0.2em;position: relative;}#sk-container-id-7 div.sk-item {position: relative;z-index: 1;}#sk-container-id-7 div.sk-parallel {display: flex;align-items: stretch;justify-content: center;background-color: white;position: relative;}#sk-container-id-7 div.sk-item::before, #sk-container-id-7 div.sk-parallel-item::before {content: \"\";position: absolute;border-left: 1px solid gray;box-sizing: border-box;top: 0;bottom: 0;left: 50%;z-index: -1;}#sk-container-id-7 div.sk-parallel-item {display: flex;flex-direction: column;z-index: 1;position: relative;background-color: white;}#sk-container-id-7 div.sk-parallel-item:first-child::after {align-self: flex-end;width: 50%;}#sk-container-id-7 div.sk-parallel-item:last-child::after {align-self: flex-start;width: 50%;}#sk-container-id-7 div.sk-parallel-item:only-child::after {width: 0;}#sk-container-id-7 div.sk-dashed-wrapped {border: 1px dashed gray;margin: 0 0.4em 0.5em 0.4em;box-sizing: border-box;padding-bottom: 0.4em;background-color: white;}#sk-container-id-7 div.sk-label label {font-family: monospace;font-weight: bold;display: inline-block;line-height: 1.2em;}#sk-container-id-7 div.sk-label-container {text-align: center;}#sk-container-id-7 div.sk-container {/* jupyter's `normalize.less` sets `[hidden] { display: none; }` but bootstrap.min.css set `[hidden] { display: none !important; }` so we also need the `!important` here to be able to override the default hidden behavior on the sphinx rendered scikit-learn.org. See: https://github.com/scikit-learn/scikit-learn/issues/21755 */display: inline-block !important;position: relative;}#sk-container-id-7 div.sk-text-repr-fallback {display: none;}</style><div id=\"sk-container-id-7\" class=\"sk-top-container\"><div class=\"sk-text-repr-fallback\"><pre>RandomForestClassifier()</pre><b>In a Jupyter environment, please rerun this cell to show the HTML representation or trust the notebook. <br />On GitHub, the HTML representation is unable to render, please try loading this page with nbviewer.org.</b></div><div class=\"sk-container\" hidden><div class=\"sk-item\"><div class=\"sk-estimator sk-toggleable\"><input class=\"sk-toggleable__control sk-hidden--visually\" id=\"sk-estimator-id-7\" type=\"checkbox\" checked><label for=\"sk-estimator-id-7\" class=\"sk-toggleable__label sk-toggleable__label-arrow\">RandomForestClassifier</label><div class=\"sk-toggleable__content\"><pre>RandomForestClassifier()</pre></div></div></div></div></div>"
      ],
      "text/plain": [
       "RandomForestClassifier()"
      ]
     },
     "execution_count": 139,
     "metadata": {},
     "output_type": "execute_result"
    }
   ],
   "source": [
    "# 모듈 로딩\n",
    "from sklearn.ensemble import RandomForestRegressor\n",
    "from sklearn.ensemble import RandomForestClassifier\n",
    "\n",
    "# 모델 생성\n",
    "model_RF = RandomForestClassifier()\n",
    "model_RF.fit(train_input, train_target)"
   ]
  },
  {
   "cell_type": "code",
   "execution_count": 140,
   "metadata": {},
   "outputs": [
    {
     "name": "stdout",
     "output_type": "stream",
     "text": [
      "classes_ : [0 1]\n",
      "base_estimator_ : DecisionTreeClassifier()\n"
     ]
    },
    {
     "data": {
      "text/html": [
       "<style>#sk-container-id-8 {color: black;background-color: white;}#sk-container-id-8 pre{padding: 0;}#sk-container-id-8 div.sk-toggleable {background-color: white;}#sk-container-id-8 label.sk-toggleable__label {cursor: pointer;display: block;width: 100%;margin-bottom: 0;padding: 0.3em;box-sizing: border-box;text-align: center;}#sk-container-id-8 label.sk-toggleable__label-arrow:before {content: \"▸\";float: left;margin-right: 0.25em;color: #696969;}#sk-container-id-8 label.sk-toggleable__label-arrow:hover:before {color: black;}#sk-container-id-8 div.sk-estimator:hover label.sk-toggleable__label-arrow:before {color: black;}#sk-container-id-8 div.sk-toggleable__content {max-height: 0;max-width: 0;overflow: hidden;text-align: left;background-color: #f0f8ff;}#sk-container-id-8 div.sk-toggleable__content pre {margin: 0.2em;color: black;border-radius: 0.25em;background-color: #f0f8ff;}#sk-container-id-8 input.sk-toggleable__control:checked~div.sk-toggleable__content {max-height: 200px;max-width: 100%;overflow: auto;}#sk-container-id-8 input.sk-toggleable__control:checked~label.sk-toggleable__label-arrow:before {content: \"▾\";}#sk-container-id-8 div.sk-estimator input.sk-toggleable__control:checked~label.sk-toggleable__label {background-color: #d4ebff;}#sk-container-id-8 div.sk-label input.sk-toggleable__control:checked~label.sk-toggleable__label {background-color: #d4ebff;}#sk-container-id-8 input.sk-hidden--visually {border: 0;clip: rect(1px 1px 1px 1px);clip: rect(1px, 1px, 1px, 1px);height: 1px;margin: -1px;overflow: hidden;padding: 0;position: absolute;width: 1px;}#sk-container-id-8 div.sk-estimator {font-family: monospace;background-color: #f0f8ff;border: 1px dotted black;border-radius: 0.25em;box-sizing: border-box;margin-bottom: 0.5em;}#sk-container-id-8 div.sk-estimator:hover {background-color: #d4ebff;}#sk-container-id-8 div.sk-parallel-item::after {content: \"\";width: 100%;border-bottom: 1px solid gray;flex-grow: 1;}#sk-container-id-8 div.sk-label:hover label.sk-toggleable__label {background-color: #d4ebff;}#sk-container-id-8 div.sk-serial::before {content: \"\";position: absolute;border-left: 1px solid gray;box-sizing: border-box;top: 0;bottom: 0;left: 50%;z-index: 0;}#sk-container-id-8 div.sk-serial {display: flex;flex-direction: column;align-items: center;background-color: white;padding-right: 0.2em;padding-left: 0.2em;position: relative;}#sk-container-id-8 div.sk-item {position: relative;z-index: 1;}#sk-container-id-8 div.sk-parallel {display: flex;align-items: stretch;justify-content: center;background-color: white;position: relative;}#sk-container-id-8 div.sk-item::before, #sk-container-id-8 div.sk-parallel-item::before {content: \"\";position: absolute;border-left: 1px solid gray;box-sizing: border-box;top: 0;bottom: 0;left: 50%;z-index: -1;}#sk-container-id-8 div.sk-parallel-item {display: flex;flex-direction: column;z-index: 1;position: relative;background-color: white;}#sk-container-id-8 div.sk-parallel-item:first-child::after {align-self: flex-end;width: 50%;}#sk-container-id-8 div.sk-parallel-item:last-child::after {align-self: flex-start;width: 50%;}#sk-container-id-8 div.sk-parallel-item:only-child::after {width: 0;}#sk-container-id-8 div.sk-dashed-wrapped {border: 1px dashed gray;margin: 0 0.4em 0.5em 0.4em;box-sizing: border-box;padding-bottom: 0.4em;background-color: white;}#sk-container-id-8 div.sk-label label {font-family: monospace;font-weight: bold;display: inline-block;line-height: 1.2em;}#sk-container-id-8 div.sk-label-container {text-align: center;}#sk-container-id-8 div.sk-container {/* jupyter's `normalize.less` sets `[hidden] { display: none; }` but bootstrap.min.css set `[hidden] { display: none !important; }` so we also need the `!important` here to be able to override the default hidden behavior on the sphinx rendered scikit-learn.org. See: https://github.com/scikit-learn/scikit-learn/issues/21755 */display: inline-block !important;position: relative;}#sk-container-id-8 div.sk-text-repr-fallback {display: none;}</style><div id=\"sk-container-id-8\" class=\"sk-top-container\"><div class=\"sk-text-repr-fallback\"><pre>DecisionTreeClassifier()</pre><b>In a Jupyter environment, please rerun this cell to show the HTML representation or trust the notebook. <br />On GitHub, the HTML representation is unable to render, please try loading this page with nbviewer.org.</b></div><div class=\"sk-container\" hidden><div class=\"sk-item\"><div class=\"sk-estimator sk-toggleable\"><input class=\"sk-toggleable__control sk-hidden--visually\" id=\"sk-estimator-id-8\" type=\"checkbox\" checked><label for=\"sk-estimator-id-8\" class=\"sk-toggleable__label sk-toggleable__label-arrow\">DecisionTreeClassifier</label><div class=\"sk-toggleable__content\"><pre>DecisionTreeClassifier()</pre></div></div></div></div></div>"
      ],
      "text/plain": [
       "DecisionTreeClassifier()"
      ]
     },
     "execution_count": 140,
     "metadata": {},
     "output_type": "execute_result"
    }
   ],
   "source": [
    "# 모델 학습 후 속성\n",
    "print(f'classes_ : {model_RF.classes_}')\n",
    "print(f'base_estimator_ : {model_RF.base_estimator}') # 가장 좋은 분류기 선정\n",
    "\n",
    "# 가장 좋은 분류기 저장\n",
    "model_best = model_RF.base_estimator_\n",
    "model_best.fit(train_input, train_target)"
   ]
  },
  {
   "cell_type": "code",
   "execution_count": 141,
   "metadata": {},
   "outputs": [
    {
     "name": "stdout",
     "output_type": "stream",
     "text": [
      "RF_train score :  1.0\n",
      "RF_test score  :  0.958041958041958\n",
      "best_train score :  1.0\n",
      "best_test score  :  0.9370629370629371\n"
     ]
    }
   ],
   "source": [
    "# 평가\n",
    "print(\"RF_train score : \", model_RF.score(train_input,train_target))\n",
    "print(\"RF_test score  : \", model_RF.score(test_input,test_target))\n",
    "\n",
    "# 평가\n",
    "print(\"best_train score : \", model_best.score(train_input,train_target))\n",
    "print(\"best_test score  : \", model_best.score(test_input,test_target))"
   ]
  },
  {
   "cell_type": "code",
   "execution_count": 142,
   "metadata": {},
   "outputs": [
    {
     "name": "stdout",
     "output_type": "stream",
     "text": [
      "oob_RF_model:  0.951048951048951\n"
     ]
    }
   ],
   "source": [
    "# oob_score: 중복허용랜던샘플에 포함되지 않은 데이터 => 검증용으로 사용\n",
    "model_RF_oob = RandomForestClassifier(oob_score = False)\n",
    "model_RF_oob.fit(train_input,train_target)\n",
    "print('oob_RF_model: ', model_RF_oob.score(test_input,test_target))"
   ]
  },
  {
   "cell_type": "code",
   "execution_count": 143,
   "metadata": {},
   "outputs": [
    {
     "name": "stderr",
     "output_type": "stream",
     "text": [
      "/opt/conda/lib/python3.10/site-packages/sklearn/utils/deprecation.py:103: FutureWarning: Attribute `n_features_` was deprecated in version 1.0 and will be removed in 1.2. Use `n_features_in_` instead.\n",
      "  warnings.warn(msg, category=FutureWarning)\n"
     ]
    },
    {
     "data": {
      "text/plain": [
       "30"
      ]
     },
     "execution_count": 143,
     "metadata": {},
     "output_type": "execute_result"
    }
   ],
   "source": [
    "model_RF.n_features_"
   ]
  },
  {
   "cell_type": "code",
   "execution_count": 154,
   "metadata": {},
   "outputs": [
    {
     "name": "stderr",
     "output_type": "stream",
     "text": [
      "/opt/conda/lib/python3.10/site-packages/sklearn/utils/deprecation.py:103: FutureWarning: Attribute `n_features_` was deprecated in version 1.0 and will be removed in 1.2. Use `n_features_in_` instead.\n",
      "  warnings.warn(msg, category=FutureWarning)\n"
     ]
    },
    {
     "data": {
      "image/png": "[encoded data removed]",
      "text/plain": [
       "<Figure size 432x288 with 1 Axes>"
      ]
     },
     "metadata": {
      "needs_background": "light"
     },
     "output_type": "display_data"
    }
   ],
   "source": [
    "plt.bar(x = np.arange(model_RF.n_features_), height=model_RF.feature_importances_)\n",
    "plt.show()"
   ]
  },
  {
   "cell_type": "code",
   "execution_count": null,
   "metadata": {},
   "outputs": [
    {
     "data": {
      "image/png": "[encoded data removed]",
      "text/plain": [
       "<Figure size 432x288 with 1 Axes>"
      ]
     },
     "metadata": {
      "needs_background": "light"
     },
     "output_type": "display_data"
    }
   ],
   "source": [
    "plt.barh(y=f_names,width=model_RF.feature_importances_)\n",
    "plt.show()"
   ]
  },
  {
   "cell_type": "markdown",
   "metadata": {},
   "source": [
    "## 실습: select_model\n",
    "---\n",
    "Sklearn 모델 추천 함수 활용\n",
    "- sklearn.utils 모듈의 all_estimators(type_filter)\n",
    "    * type_filter 파라미터: 'classifier','regressor' 지정\n",
    "    * 반환: 해당 타입의 모델 리스트 => 모델이름, 모델객체"
   ]
  },
  {
   "cell_type": "code",
   "execution_count": 155,
   "metadata": {},
   "outputs": [],
   "source": [
    "# 모듈 로딩\n",
    "from sklearn.utils import all_estimators\n",
    "from sklearn.datasets import load_iris\n",
    "from sklearn.model_selection import train_test_split\n",
    "import numpy as np"
   ]
  },
  {
   "cell_type": "markdown",
   "metadata": {},
   "source": [
    "##### [1] 데이터 로딩 및 확인"
   ]
  },
  {
   "cell_type": "code",
   "execution_count": 166,
   "metadata": {},
   "outputs": [],
   "source": [
    "# Bunch 데이터 타입 => dict와 유사한 형태\n",
    "data =load_iris()"
   ]
  },
  {
   "cell_type": "code",
   "execution_count": 167,
   "metadata": {},
   "outputs": [
    {
     "data": {
      "text/plain": [
       "dict_keys(['data', 'target', 'frame', 'target_names', 'DESCR', 'feature_names', 'filename', 'data_module'])"
      ]
     },
     "execution_count": 167,
     "metadata": {},
     "output_type": "execute_result"
    }
   ],
   "source": [
    "data.keys()"
   ]
  },
  {
   "cell_type": "code",
   "execution_count": 168,
   "metadata": {},
   "outputs": [],
   "source": [
    "# data, target => numpy 타입\n",
    "# target_names => 라벨 => setosa, versicolor...\n",
    "# feature_names => 컬럼명\n",
    "input_data = data['data']\n",
    "input_target = data['target']"
   ]
  },
  {
   "cell_type": "markdown",
   "metadata": {},
   "source": [
    "##### [2] 학습 데이터 분리"
   ]
  },
  {
   "cell_type": "code",
   "execution_count": 189,
   "metadata": {},
   "outputs": [],
   "source": [
    "# 학습 - 테스트 데이터셋\n",
    "train_input, test_input, train_target, test_target =train_test_split(input_data, input_target, test_size = 0.2, random_state = 42)"
   ]
  },
  {
   "cell_type": "code",
   "execution_count": 197,
   "metadata": {},
   "outputs": [],
   "source": [
    "# 학습 - 검증용 데이터셋\n",
    "train_input, val_input, train_target, val_target =train_test_split(train_input, train_target, test_size = 0.2, random_state = 42)"
   ]
  },
  {
   "cell_type": "markdown",
   "metadata": {},
   "source": [
    "##### [3] 학습\n",
    "- 학습방법 선정 => 분류/회귀\n",
    "    - 분류 => knn, logisticRegression, DecisionTreeClassifier, SGDClassifier,SVC...\n",
    "    - 분류모델 적용 후결과 => all_estimators()"
   ]
  },
  {
   "cell_type": "code",
   "execution_count": 190,
   "metadata": {},
   "outputs": [
    {
     "data": {
      "text/plain": [
       "[('AdaBoostClassifier', sklearn.ensemble._weight_boosting.AdaBoostClassifier),\n",
       " ('BaggingClassifier', sklearn.ensemble._bagging.BaggingClassifier),\n",
       " ('BernoulliNB', sklearn.naive_bayes.BernoulliNB),\n",
       " ('CalibratedClassifierCV', sklearn.calibration.CalibratedClassifierCV),\n",
       " ('CategoricalNB', sklearn.naive_bayes.CategoricalNB),\n",
       " ('ClassifierChain', sklearn.multioutput.ClassifierChain),\n",
       " ('ComplementNB', sklearn.naive_bayes.ComplementNB),\n",
       " ('DecisionTreeClassifier', sklearn.tree._classes.DecisionTreeClassifier),\n",
       " ('DummyClassifier', sklearn.dummy.DummyClassifier),\n",
       " ('ExtraTreeClassifier', sklearn.tree._classes.ExtraTreeClassifier),\n",
       " ('ExtraTreesClassifier', sklearn.ensemble._forest.ExtraTreesClassifier),\n",
       " ('GaussianNB', sklearn.naive_bayes.GaussianNB),\n",
       " ('GaussianProcessClassifier',\n",
       "  sklearn.gaussian_process._gpc.GaussianProcessClassifier),\n",
       " ('GradientBoostingClassifier',\n",
       "  sklearn.ensemble._gb.GradientBoostingClassifier),\n",
       " ('HistGradientBoostingClassifier',\n",
       "  sklearn.ensemble._hist_gradient_boosting.gradient_boosting.HistGradientBoostingClassifier),\n",
       " ('KNeighborsClassifier',\n",
       "  sklearn.neighbors._classification.KNeighborsClassifier),\n",
       " ('LabelPropagation',\n",
       "  sklearn.semi_supervised._label_propagation.LabelPropagation),\n",
       " ('LabelSpreading', sklearn.semi_supervised._label_propagation.LabelSpreading),\n",
       " ('LinearDiscriminantAnalysis',\n",
       "  sklearn.discriminant_analysis.LinearDiscriminantAnalysis),\n",
       " ('LinearSVC', sklearn.svm._classes.LinearSVC),\n",
       " ('LogisticRegression', sklearn.linear_model._logistic.LogisticRegression),\n",
       " ('LogisticRegressionCV', sklearn.linear_model._logistic.LogisticRegressionCV),\n",
       " ('MLPClassifier',\n",
       "  sklearn.neural_network._multilayer_perceptron.MLPClassifier),\n",
       " ('MultiOutputClassifier', sklearn.multioutput.MultiOutputClassifier),\n",
       " ('MultinomialNB', sklearn.naive_bayes.MultinomialNB),\n",
       " ('NearestCentroid', sklearn.neighbors._nearest_centroid.NearestCentroid),\n",
       " ('NuSVC', sklearn.svm._classes.NuSVC),\n",
       " ('OneVsOneClassifier', sklearn.multiclass.OneVsOneClassifier),\n",
       " ('OneVsRestClassifier', sklearn.multiclass.OneVsRestClassifier),\n",
       " ('OutputCodeClassifier', sklearn.multiclass.OutputCodeClassifier),\n",
       " ('PassiveAggressiveClassifier',\n",
       "  sklearn.linear_model._passive_aggressive.PassiveAggressiveClassifier),\n",
       " ('Perceptron', sklearn.linear_model._perceptron.Perceptron),\n",
       " ('QuadraticDiscriminantAnalysis',\n",
       "  sklearn.discriminant_analysis.QuadraticDiscriminantAnalysis),\n",
       " ('RadiusNeighborsClassifier',\n",
       "  sklearn.neighbors._classification.RadiusNeighborsClassifier),\n",
       " ('RandomForestClassifier', sklearn.ensemble._forest.RandomForestClassifier),\n",
       " ('RidgeClassifier', sklearn.linear_model._ridge.RidgeClassifier),\n",
       " ('RidgeClassifierCV', sklearn.linear_model._ridge.RidgeClassifierCV),\n",
       " ('SGDClassifier', sklearn.linear_model._stochastic_gradient.SGDClassifier),\n",
       " ('SVC', sklearn.svm._classes.SVC),\n",
       " ('StackingClassifier', sklearn.ensemble._stacking.StackingClassifier),\n",
       " ('VotingClassifier', sklearn.ensemble._voting.VotingClassifier)]"
      ]
     },
     "execution_count": 190,
     "metadata": {},
     "output_type": "execute_result"
    }
   ],
   "source": [
    "# 필터 타입에 해당하는 sklearn에 존재하는 모든 모델 이름과 객체 리스트로 반환\n",
    "models = all_estimators(type_filter = 'classifier')\n",
    "models"
   ]
  },
  {
   "cell_type": "code",
   "execution_count": 193,
   "metadata": {},
   "outputs": [
    {
     "name": "stderr",
     "output_type": "stream",
     "text": [
      "/opt/conda/lib/python3.10/site-packages/sklearn/svm/_base.py:1225: ConvergenceWarning: Liblinear failed to converge, increase the number of iterations.\n",
      "  warnings.warn(\n",
      "/opt/conda/lib/python3.10/site-packages/sklearn/svm/_base.py:1225: ConvergenceWarning: Liblinear failed to converge, increase the number of iterations.\n",
      "  warnings.warn(\n",
      "/opt/conda/lib/python3.10/site-packages/sklearn/svm/_base.py:1225: ConvergenceWarning: Liblinear failed to converge, increase the number of iterations.\n",
      "  warnings.warn(\n",
      "/opt/conda/lib/python3.10/site-packages/sklearn/svm/_base.py:1225: ConvergenceWarning: Liblinear failed to converge, increase the number of iterations.\n",
      "  warnings.warn(\n",
      "/opt/conda/lib/python3.10/site-packages/sklearn/svm/_base.py:1225: ConvergenceWarning: Liblinear failed to converge, increase the number of iterations.\n",
      "  warnings.warn(\n",
      "/opt/conda/lib/python3.10/site-packages/sklearn/svm/_base.py:1225: ConvergenceWarning: Liblinear failed to converge, increase the number of iterations.\n",
      "  warnings.warn(\n",
      "/opt/conda/lib/python3.10/site-packages/sklearn/linear_model/_logistic.py:444: ConvergenceWarning: lbfgs failed to converge (status=1):\n",
      "STOP: TOTAL NO. of ITERATIONS REACHED LIMIT.\n",
      "\n",
      "Increase the number of iterations (max_iter) or scale the data as shown in:\n",
      "    https://scikit-learn.org/stable/modules/preprocessing.html\n",
      "Please also refer to the documentation for alternative solver options:\n",
      "    https://scikit-learn.org/stable/modules/linear_model.html#logistic-regression\n",
      "  n_iter_i = _check_optimize_result(\n",
      "/opt/conda/lib/python3.10/site-packages/sklearn/linear_model/_logistic.py:444: ConvergenceWarning: lbfgs failed to converge (status=1):\n",
      "STOP: TOTAL NO. of ITERATIONS REACHED LIMIT.\n",
      "\n",
      "Increase the number of iterations (max_iter) or scale the data as shown in:\n",
      "    https://scikit-learn.org/stable/modules/preprocessing.html\n",
      "Please also refer to the documentation for alternative solver options:\n",
      "    https://scikit-learn.org/stable/modules/linear_model.html#logistic-regression\n",
      "  n_iter_i = _check_optimize_result(\n",
      "/opt/conda/lib/python3.10/site-packages/sklearn/linear_model/_logistic.py:444: ConvergenceWarning: lbfgs failed to converge (status=1):\n",
      "STOP: TOTAL NO. of ITERATIONS REACHED LIMIT.\n",
      "\n",
      "Increase the number of iterations (max_iter) or scale the data as shown in:\n",
      "    https://scikit-learn.org/stable/modules/preprocessing.html\n",
      "Please also refer to the documentation for alternative solver options:\n",
      "    https://scikit-learn.org/stable/modules/linear_model.html#logistic-regression\n",
      "  n_iter_i = _check_optimize_result(\n",
      "/opt/conda/lib/python3.10/site-packages/sklearn/linear_model/_logistic.py:444: ConvergenceWarning: lbfgs failed to converge (status=1):\n",
      "STOP: TOTAL NO. of ITERATIONS REACHED LIMIT.\n",
      "\n",
      "Increase the number of iterations (max_iter) or scale the data as shown in:\n",
      "    https://scikit-learn.org/stable/modules/preprocessing.html\n",
      "Please also refer to the documentation for alternative solver options:\n",
      "    https://scikit-learn.org/stable/modules/linear_model.html#logistic-regression\n",
      "  n_iter_i = _check_optimize_result(\n",
      "/opt/conda/lib/python3.10/site-packages/sklearn/linear_model/_logistic.py:444: ConvergenceWarning: lbfgs failed to converge (status=1):\n",
      "STOP: TOTAL NO. of ITERATIONS REACHED LIMIT.\n",
      "\n",
      "Increase the number of iterations (max_iter) or scale the data as shown in:\n",
      "    https://scikit-learn.org/stable/modules/preprocessing.html\n",
      "Please also refer to the documentation for alternative solver options:\n",
      "    https://scikit-learn.org/stable/modules/linear_model.html#logistic-regression\n",
      "  n_iter_i = _check_optimize_result(\n",
      "/opt/conda/lib/python3.10/site-packages/sklearn/linear_model/_logistic.py:444: ConvergenceWarning: lbfgs failed to converge (status=1):\n",
      "STOP: TOTAL NO. of ITERATIONS REACHED LIMIT.\n",
      "\n",
      "Increase the number of iterations (max_iter) or scale the data as shown in:\n",
      "    https://scikit-learn.org/stable/modules/preprocessing.html\n",
      "Please also refer to the documentation for alternative solver options:\n",
      "    https://scikit-learn.org/stable/modules/linear_model.html#logistic-regression\n",
      "  n_iter_i = _check_optimize_result(\n",
      "/opt/conda/lib/python3.10/site-packages/sklearn/neural_network/_multilayer_perceptron.py:702: ConvergenceWarning: Stochastic Optimizer: Maximum iterations (200) reached and the optimization hasn't converged yet.\n",
      "  warnings.warn(\n"
     ]
    }
   ],
   "source": [
    "# 각 모델들 훈련시키고 정확도 추출\n",
    "scores = []\n",
    "for name, model in models:\n",
    "    try:\n",
    "        # 모델 객체 생성\n",
    "        md = model()\n",
    "        # 학습\n",
    "        md.fit(train_input, train_target)\n",
    "        # 평가\n",
    "        result = md.score(test_input, test_target)\n",
    "    \n",
    "        scores.append((name, result))\n",
    "    except:\n",
    "        pass"
   ]
  },
  {
   "cell_type": "code",
   "execution_count": 194,
   "metadata": {},
   "outputs": [
    {
     "data": {
      "text/plain": [
       "[('AdaBoostClassifier', 1.0),\n",
       " ('BaggingClassifier', 1.0),\n",
       " ('BernoulliNB', 0.3),\n",
       " ('CalibratedClassifierCV', 0.9666666666666667),\n",
       " ('CategoricalNB', 0.9666666666666667),\n",
       " ('ComplementNB', 0.7),\n",
       " ('DecisionTreeClassifier', 1.0),\n",
       " ('DummyClassifier', 0.3),\n",
       " ('ExtraTreeClassifier', 0.9),\n",
       " ('ExtraTreesClassifier', 1.0),\n",
       " ('GaussianNB', 1.0),\n",
       " ('GaussianProcessClassifier', 1.0),\n",
       " ('GradientBoostingClassifier', 1.0),\n",
       " ('HistGradientBoostingClassifier', 1.0),\n",
       " ('KNeighborsClassifier', 1.0),\n",
       " ('LabelPropagation', 1.0),\n",
       " ('LabelSpreading', 1.0),\n",
       " ('LinearDiscriminantAnalysis', 1.0),\n",
       " ('LinearSVC', 1.0),\n",
       " ('LogisticRegression', 1.0),\n",
       " ('LogisticRegressionCV', 1.0),\n",
       " ('MLPClassifier', 1.0),\n",
       " ('MultinomialNB', 0.9),\n",
       " ('NearestCentroid', 0.9666666666666667),\n",
       " ('NuSVC', 1.0),\n",
       " ('PassiveAggressiveClassifier', 0.8),\n",
       " ('Perceptron', 0.8),\n",
       " ('QuadraticDiscriminantAnalysis', 0.9666666666666667),\n",
       " ('RadiusNeighborsClassifier', 1.0),\n",
       " ('RandomForestClassifier', 1.0),\n",
       " ('RidgeClassifier', 0.9),\n",
       " ('RidgeClassifierCV', 0.9),\n",
       " ('SGDClassifier', 0.9),\n",
       " ('SVC', 1.0)]"
      ]
     },
     "execution_count": 194,
     "metadata": {},
     "output_type": "execute_result"
    }
   ],
   "source": [
    "# 각 분류기 모듈명과 score\n",
    "scores"
   ]
  },
  {
   "cell_type": "markdown",
   "metadata": {},
   "source": [
    "## K-Fold Cross Validation \n",
    "---\n",
    "- 가장 일반적으로 사용되는 교차 검증 방법. \n",
    "- 보통 회귀 모델에 사용, 데이터가 독립적이고 동일한 분포 가진 경우 사용\n",
    "\n",
    "- 훈련 데이터가 줄어드는 문제 및 데이터가 충분하지 않은 문제 해결\n",
    "- 테스트 데이터에 과대적합(Overfitting) 문제 해결 \n",
    "- 훈련 데이터를 동일 크기로 여러 조각 나눈 후 데이터를교차시켜훈련/검증 데이터로 활용\n",
    "\n",
    "##### [장점] \n",
    "- 모든 데이터셋을 훈련과 평가에 활용 가능=> 정확도 ▲  \n",
    "- 데이터부족 과소적합 방지\n",
    "- 평가용 데이터 편중 ▼ \n",
    "- 평가 결과에 일반화된 모델 생성\n",
    "\n",
    "##### [단점] \n",
    "- 훈련과 평가에 많은 시간 소요"
   ]
  },
  {
   "cell_type": "code",
   "execution_count": null,
   "metadata": {},
   "outputs": [],
   "source": []
  }
 ],
 "metadata": {
  "kernelspec": {
   "display_name": "Python 3.10.5 ('base')",
   "language": "python",
   "name": "python3"
  },
  "language_info": {
   "codemirror_mode": {
    "name": "ipython",
    "version": 3
   },
   "file_extension": ".py",
   "mimetype": "text/x-python",
   "name": "python",
   "nbconvert_exporter": "python",
   "pygments_lexer": "ipython3",
   "version": "3.10.5"
  },
  "orig_nbformat": 4,
  "vscode": {
   "interpreter": {
    "hash": "d4d1e4263499bec80672ea0156c357c1ee493ec2b1c70f0acce89fc37c4a6abe"
   }
  }
 },
 "nbformat": 4,
 "nbformat_minor": 2
}
